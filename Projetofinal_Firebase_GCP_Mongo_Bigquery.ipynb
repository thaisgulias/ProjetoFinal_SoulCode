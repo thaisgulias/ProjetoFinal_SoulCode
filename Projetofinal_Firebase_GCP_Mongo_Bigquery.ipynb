{
  "cells": [
    {
      "cell_type": "markdown",
      "metadata": {
        "id": "view-in-github",
        "colab_type": "text"
      },
      "source": [
        "<a href=\"https://colab.research.google.com/github/thaisgulias/ProjetoFinal_SoulCode/blob/main/Projetofinal_Firebase_GCP_Mongo_Bigquery.ipynb\" target=\"_parent\"><img src=\"https://colab.research.google.com/assets/colab-badge.svg\" alt=\"Open In Colab\"/></a>"
      ]
    },
    {
      "cell_type": "markdown",
      "metadata": {
        "id": "sHpB4wZo_obY"
      },
      "source": [
        "#Config do ambiente"
      ]
    },
    {
      "cell_type": "code",
      "execution_count": null,
      "metadata": {
        "colab": {
          "background_save": true,
          "base_uri": "https://localhost:8080/"
        },
        "id": "fbzn_jbK1P6k",
        "outputId": "8d6fc563-944b-47f5-bbce-d6e408027fa8"
      },
      "outputs": [
        {
          "name": "stdout",
          "output_type": "stream",
          "text": [
            "Looking in indexes: https://pypi.org/simple, https://us-python.pkg.dev/colab-wheels/public/simple/\n",
            "Requirement already satisfied: firebase-admin in /usr/local/lib/python3.10/dist-packages (5.3.0)\n",
            "Collecting pyrebase\n",
            "  Downloading Pyrebase-3.0.27-py3-none-any.whl (9.6 kB)\n",
            "Requirement already satisfied: cachecontrol>=0.12.6 in /usr/local/lib/python3.10/dist-packages (from firebase-admin) (0.12.11)\n",
            "Requirement already satisfied: google-api-python-client>=1.7.8 in /usr/local/lib/python3.10/dist-packages (from firebase-admin) (2.84.0)\n",
            "Requirement already satisfied: google-cloud-storage>=1.37.1 in /usr/local/lib/python3.10/dist-packages (from firebase-admin) (2.8.0)\n",
            "Requirement already satisfied: google-api-core[grpc]<3.0.0dev,>=1.22.1 in /usr/local/lib/python3.10/dist-packages (from firebase-admin) (2.11.0)\n",
            "Requirement already satisfied: google-cloud-firestore>=2.1.0 in /usr/local/lib/python3.10/dist-packages (from firebase-admin) (2.11.0)\n",
            "Collecting gcloud==0.17.0 (from pyrebase)\n",
            "  Downloading gcloud-0.17.0.tar.gz (458 kB)\n",
            "\u001b[2K     \u001b[90m━━━━━━━━━━━━━━━━━━━━━━━━━━━━━━━━━━━━━━━\u001b[0m \u001b[32m458.0/458.0 kB\u001b[0m \u001b[31m8.2 MB/s\u001b[0m eta \u001b[36m0:00:00\u001b[0m\n",
            "\u001b[?25h  Preparing metadata (setup.py) ... \u001b[?25l\u001b[?25hdone\n",
            "Collecting oauth2client==3.0.0 (from pyrebase)\n",
            "  Downloading oauth2client-3.0.0.tar.gz (77 kB)\n",
            "\u001b[2K     \u001b[90m━━━━━━━━━━━━━━━━━━━━━━━━━━━━━━━━━━━━━━━━\u001b[0m \u001b[32m77.2/77.2 kB\u001b[0m \u001b[31m4.5 MB/s\u001b[0m eta \u001b[36m0:00:00\u001b[0m\n",
            "\u001b[?25h  Preparing metadata (setup.py) ... \u001b[?25l\u001b[?25hdone\n",
            "Collecting pycryptodome==3.4.3 (from pyrebase)\n",
            "  Downloading pycryptodome-3.4.3.tar.gz (6.5 MB)\n",
            "\u001b[2K     \u001b[90m━━━━━━━━━━━━━━━━━━━━━━━━━━━━━━━━━━━━━━━━\u001b[0m \u001b[32m6.5/6.5 MB\u001b[0m \u001b[31m16.7 MB/s\u001b[0m eta \u001b[36m0:00:00\u001b[0m\n",
            "\u001b[?25h  Preparing metadata (setup.py) ... \u001b[?25l\u001b[?25hdone\n",
            "Collecting python-jwt==2.0.1 (from pyrebase)\n",
            "  Downloading python_jwt-2.0.1-py2.py3-none-any.whl (8.8 kB)\n",
            "Collecting requests==2.11.1 (from pyrebase)\n",
            "  Downloading requests-2.11.1-py2.py3-none-any.whl (514 kB)\n",
            "\u001b[2K     \u001b[90m━━━━━━━━━━━━━━━━━━━━━━━━━━━━━━━━━━━━━━\u001b[0m \u001b[32m514.8/514.8 kB\u001b[0m \u001b[31m19.1 MB/s\u001b[0m eta \u001b[36m0:00:00\u001b[0m\n",
            "\u001b[?25hCollecting requests-toolbelt==0.7.0 (from pyrebase)\n",
            "  Downloading requests_toolbelt-0.7.0-py2.py3-none-any.whl (52 kB)\n",
            "\u001b[2K     \u001b[90m━━━━━━━━━━━━━━━━━━━━━━━━━━━━━━━━━━━━━━━━\u001b[0m \u001b[32m52.3/52.3 kB\u001b[0m \u001b[31m3.3 MB/s\u001b[0m eta \u001b[36m0:00:00\u001b[0m\n",
            "\u001b[?25hRequirement already satisfied: httplib2>=0.9.1 in /usr/local/lib/python3.10/dist-packages (from gcloud==0.17.0->pyrebase) (0.21.0)\n",
            "Requirement already satisfied: googleapis-common-protos in /usr/local/lib/python3.10/dist-packages (from gcloud==0.17.0->pyrebase) (1.59.0)\n",
            "Requirement already satisfied: protobuf!=3.0.0.b2.post1,>=3.0.0b2 in /usr/local/lib/python3.10/dist-packages (from gcloud==0.17.0->pyrebase) (3.20.3)\n",
            "Requirement already satisfied: six in /usr/local/lib/python3.10/dist-packages (from gcloud==0.17.0->pyrebase) (1.16.0)\n",
            "Requirement already satisfied: pyasn1>=0.1.7 in /usr/local/lib/python3.10/dist-packages (from oauth2client==3.0.0->pyrebase) (0.5.0)\n",
            "Requirement already satisfied: pyasn1-modules>=0.0.5 in /usr/local/lib/python3.10/dist-packages (from oauth2client==3.0.0->pyrebase) (0.3.0)\n",
            "Requirement already satisfied: rsa>=3.1.4 in /usr/local/lib/python3.10/dist-packages (from oauth2client==3.0.0->pyrebase) (4.9)\n",
            "Collecting jws>=0.1.3 (from python-jwt==2.0.1->pyrebase)\n",
            "  Downloading jws-0.1.3.tar.gz (8.1 kB)\n",
            "  Preparing metadata (setup.py) ... \u001b[?25l\u001b[?25hdone\n",
            "Requirement already satisfied: msgpack>=0.5.2 in /usr/local/lib/python3.10/dist-packages (from cachecontrol>=0.12.6->firebase-admin) (1.0.5)\n",
            "Requirement already satisfied: google-auth<3.0dev,>=2.14.1 in /usr/local/lib/python3.10/dist-packages (from google-api-core[grpc]<3.0.0dev,>=1.22.1->firebase-admin) (2.17.3)\n",
            "INFO: pip is looking at multiple versions of google-api-core[grpc] to determine which version is compatible with other requirements. This could take a while.\n",
            "Collecting google-api-core[grpc]<3.0.0dev,>=1.22.1 (from firebase-admin)\n",
            "  Downloading google_api_core-2.10.2-py3-none-any.whl (115 kB)\n",
            "\u001b[2K     \u001b[90m━━━━━━━━━━━━━━━━━━━━━━━━━━━━━━━━━━━━━━━\u001b[0m \u001b[32m115.6/115.6 kB\u001b[0m \u001b[31m5.7 MB/s\u001b[0m eta \u001b[36m0:00:00\u001b[0m\n",
            "\u001b[?25h  Downloading google_api_core-2.10.1-py3-none-any.whl (115 kB)\n",
            "\u001b[2K     \u001b[90m━━━━━━━━━━━━━━━━━━━━━━━━━━━━━━━━━━━━━━━\u001b[0m \u001b[32m115.5/115.5 kB\u001b[0m \u001b[31m6.7 MB/s\u001b[0m eta \u001b[36m0:00:00\u001b[0m\n",
            "\u001b[?25h  Downloading google_api_core-2.10.0-py3-none-any.whl (115 kB)\n",
            "\u001b[2K     \u001b[90m━━━━━━━━━━━━━━━━━━━━━━━━━━━━━━━━━━━━━\u001b[0m \u001b[32m115.3/115.3 kB\u001b[0m \u001b[31m641.5 kB/s\u001b[0m eta \u001b[36m0:00:00\u001b[0m\n",
            "\u001b[?25h  Downloading google_api_core-2.9.0-py3-none-any.whl (115 kB)\n",
            "\u001b[2K     \u001b[90m━━━━━━━━━━━━━━━━━━━━━━━━━━━━━━━━━━━━━━━\u001b[0m \u001b[32m115.1/115.1 kB\u001b[0m \u001b[31m6.2 MB/s\u001b[0m eta \u001b[36m0:00:00\u001b[0m\n",
            "\u001b[?25h  Downloading google_api_core-2.8.2-py3-none-any.whl (114 kB)\n",
            "\u001b[2K     \u001b[90m━━━━━━━━━━━━━━━━━━━━━━━━━━━━━━━━━━━━━━━\u001b[0m \u001b[32m114.6/114.6 kB\u001b[0m \u001b[31m5.3 MB/s\u001b[0m eta \u001b[36m0:00:00\u001b[0m\n",
            "\u001b[?25h  Downloading google_api_core-2.8.1-py3-none-any.whl (114 kB)\n",
            "\u001b[2K     \u001b[90m━━━━━━━━━━━━━━━━━━━━━━━━━━━━━━━━━━━━━━━\u001b[0m \u001b[32m114.7/114.7 kB\u001b[0m \u001b[31m9.9 MB/s\u001b[0m eta \u001b[36m0:00:00\u001b[0m\n",
            "\u001b[?25h  Downloading google_api_core-2.8.0-py3-none-any.whl (114 kB)\n",
            "\u001b[2K     \u001b[90m━━━━━━━━━━━━━━━━━━━━━━━━━━━━━━━━━━━━━━━\u001b[0m \u001b[32m114.7/114.7 kB\u001b[0m \u001b[31m4.0 MB/s\u001b[0m eta \u001b[36m0:00:00\u001b[0m\n",
            "\u001b[?25hINFO: pip is looking at multiple versions of google-api-core[grpc] to determine which version is compatible with other requirements. This could take a while.\n",
            "  Downloading google_api_core-2.7.3-py3-none-any.whl (114 kB)\n",
            "\u001b[2K     \u001b[90m━━━━━━━━━━━━━━━━━━━━━━━━━━━━━━━━━━━━━━\u001b[0m \u001b[32m114.6/114.6 kB\u001b[0m \u001b[31m11.8 MB/s\u001b[0m eta \u001b[36m0:00:00\u001b[0m\n",
            "\u001b[?25h  Downloading google_api_core-2.7.2-py3-none-any.whl (114 kB)\n",
            "\u001b[2K     \u001b[90m━━━━━━━━━━━━━━━━━━━━━━━━━━━━━━━━━━━━━━\u001b[0m \u001b[32m114.6/114.6 kB\u001b[0m \u001b[31m12.0 MB/s\u001b[0m eta \u001b[36m0:00:00\u001b[0m\n",
            "\u001b[?25h  Downloading google_api_core-2.7.1-py3-none-any.whl (114 kB)\n",
            "\u001b[2K     \u001b[90m━━━━━━━━━━━━━━━━━━━━━━━━━━━━━━━━━━━━━━\u001b[0m \u001b[32m114.7/114.7 kB\u001b[0m \u001b[31m11.9 MB/s\u001b[0m eta \u001b[36m0:00:00\u001b[0m\n",
            "\u001b[?25h  Downloading google_api_core-2.7.0-py3-none-any.whl (114 kB)\n",
            "\u001b[2K     \u001b[90m━━━━━━━━━━━━━━━━━━━━━━━━━━━━━━━━━━━━━━━\u001b[0m \u001b[32m114.7/114.7 kB\u001b[0m \u001b[31m8.1 MB/s\u001b[0m eta \u001b[36m0:00:00\u001b[0m\n",
            "\u001b[?25h  Downloading google_api_core-2.6.1-py3-none-any.whl (114 kB)\n",
            "\u001b[2K     \u001b[90m━━━━━━━━━━━━━━━━━━━━━━━━━━━━━━━━━━━━━━━\u001b[0m \u001b[32m114.6/114.6 kB\u001b[0m \u001b[31m8.0 MB/s\u001b[0m eta \u001b[36m0:00:00\u001b[0m\n",
            "\u001b[?25hINFO: This is taking longer than usual. You might need to provide the dependency resolver with stricter constraints to reduce runtime. See https://pip.pypa.io/warnings/backtracking for guidance. If you want to abort this run, press Ctrl + C.\n",
            "  Downloading google_api_core-2.6.0-py2.py3-none-any.whl (114 kB)\n",
            "\u001b[2K     \u001b[90m━━━━━━━━━━━━━━━━━━━━━━━━━━━━━━━━━━━━━━\u001b[0m \u001b[32m114.6/114.6 kB\u001b[0m \u001b[31m11.8 MB/s\u001b[0m eta \u001b[36m0:00:00\u001b[0m\n",
            "\u001b[?25h  Downloading google_api_core-2.5.0-py2.py3-none-any.whl (111 kB)\n",
            "\u001b[2K     \u001b[90m━━━━━━━━━━━━━━━━━━━━━━━━━━━━━━━━━━━━━━\u001b[0m \u001b[32m111.8/111.8 kB\u001b[0m \u001b[31m11.3 MB/s\u001b[0m eta \u001b[36m0:00:00\u001b[0m\n",
            "\u001b[?25h  Downloading google_api_core-2.4.0-py2.py3-none-any.whl (111 kB)\n",
            "\u001b[2K     \u001b[90m━━━━━━━━━━━━━━━━━━━━━━━━━━━━━━━━━━━━━━\u001b[0m \u001b[32m111.7/111.7 kB\u001b[0m \u001b[31m11.1 MB/s\u001b[0m eta \u001b[36m0:00:00\u001b[0m\n",
            "\u001b[?25h  Downloading google_api_core-2.3.2-py2.py3-none-any.whl (109 kB)\n",
            "\u001b[2K     \u001b[90m━━━━━━━━━━━━━━━━━━━━━━━━━━━━━━━━━━━━━━\u001b[0m \u001b[32m109.8/109.8 kB\u001b[0m \u001b[31m11.2 MB/s\u001b[0m eta \u001b[36m0:00:00\u001b[0m\n",
            "\u001b[?25h  Downloading google_api_core-2.3.0-py2.py3-none-any.whl (109 kB)\n",
            "\u001b[2K     \u001b[90m━━━━━━━━━━━━━━━━━━━━━━━━━━━━━━━━━━━━━━━\u001b[0m \u001b[32m109.8/109.8 kB\u001b[0m \u001b[31m9.2 MB/s\u001b[0m eta \u001b[36m0:00:00\u001b[0m\n",
            "\u001b[?25h  Downloading google_api_core-2.2.2-py2.py3-none-any.whl (95 kB)\n",
            "\u001b[2K     \u001b[90m━━━━━━━━━━━━━━━━━━━━━━━━━━━━━━━━━━━━━━━━\u001b[0m \u001b[32m95.8/95.8 kB\u001b[0m \u001b[31m9.6 MB/s\u001b[0m eta \u001b[36m0:00:00\u001b[0m\n",
            "\u001b[?25h  Downloading google_api_core-2.2.1-py2.py3-none-any.whl (95 kB)\n",
            "\u001b[2K     \u001b[90m━━━━━━━━━━━━━━━━━━━━━━━━━━━━━━━━━━━━━━━━\u001b[0m \u001b[32m95.6/95.6 kB\u001b[0m \u001b[31m10.8 MB/s\u001b[0m eta \u001b[36m0:00:00\u001b[0m\n",
            "\u001b[?25h  Downloading google_api_core-2.2.0-py2.py3-none-any.whl (95 kB)\n",
            "\u001b[2K     \u001b[90m━━━━━━━━━━━━━━━━━━━━━━━━━━━━━━━━━━━━━━━━\u001b[0m \u001b[32m95.6/95.6 kB\u001b[0m \u001b[31m9.5 MB/s\u001b[0m eta \u001b[36m0:00:00\u001b[0m\n",
            "\u001b[?25h  Downloading google_api_core-2.1.1-py2.py3-none-any.whl (95 kB)\n",
            "\u001b[2K     \u001b[90m━━━━━━━━━━━━━━━━━━━━━━━━━━━━━━━━━━━━━━━━\u001b[0m \u001b[32m95.1/95.1 kB\u001b[0m \u001b[31m8.6 MB/s\u001b[0m eta \u001b[36m0:00:00\u001b[0m\n",
            "\u001b[?25h  Downloading google_api_core-2.1.0-py2.py3-none-any.whl (94 kB)\n",
            "\u001b[2K     \u001b[90m━━━━━━━━━━━━━━━━━━━━━━━━━━━━━━━━━━━━━━━━\u001b[0m \u001b[32m94.8/94.8 kB\u001b[0m \u001b[31m10.7 MB/s\u001b[0m eta \u001b[36m0:00:00\u001b[0m\n",
            "\u001b[?25h  Downloading google_api_core-2.0.1-py2.py3-none-any.whl (92 kB)\n",
            "\u001b[2K     \u001b[90m━━━━━━━━━━━━━━━━━━━━━━━━━━━━━━━━━━━━━━━━\u001b[0m \u001b[32m92.5/92.5 kB\u001b[0m \u001b[31m9.8 MB/s\u001b[0m eta \u001b[36m0:00:00\u001b[0m\n",
            "\u001b[?25h  Downloading google_api_core-2.0.0-py2.py3-none-any.whl (92 kB)\n",
            "\u001b[2K     \u001b[90m━━━━━━━━━━━━━━━━━━━━━━━━━━━━━━━━━━━━━━━━\u001b[0m \u001b[32m92.4/92.4 kB\u001b[0m \u001b[31m9.1 MB/s\u001b[0m eta \u001b[36m0:00:00\u001b[0m\n",
            "\u001b[?25h  Downloading google_api_core-1.34.0-py3-none-any.whl (120 kB)\n",
            "\u001b[2K     \u001b[90m━━━━━━━━━━━━━━━━━━━━━━━━━━━━━━━━━━━━━━\u001b[0m \u001b[32m120.2/120.2 kB\u001b[0m \u001b[31m12.3 MB/s\u001b[0m eta \u001b[36m0:00:00\u001b[0m\n",
            "\u001b[?25h  Downloading google_api_core-1.33.2-py3-none-any.whl (115 kB)\n",
            "\u001b[2K     \u001b[90m━━━━━━━━━━━━━━━━━━━━━━━━━━━━━━━━━━━━━━\u001b[0m \u001b[32m115.5/115.5 kB\u001b[0m \u001b[31m10.0 MB/s\u001b[0m eta \u001b[36m0:00:00\u001b[0m\n",
            "\u001b[?25h  Downloading google_api_core-1.33.1-py3-none-any.whl (115 kB)\n",
            "\u001b[2K     \u001b[90m━━━━━━━━━━━━━━━━━━━━━━━━━━━━━━━━━━━━━━\u001b[0m \u001b[32m115.5/115.5 kB\u001b[0m \u001b[31m12.4 MB/s\u001b[0m eta \u001b[36m0:00:00\u001b[0m\n",
            "\u001b[?25h  Downloading google_api_core-1.33.0-py3-none-any.whl (115 kB)\n",
            "\u001b[2K     \u001b[90m━━━━━━━━━━━━━━━━━━━━━━━━━━━━━━━━━━━━━━\u001b[0m \u001b[32m115.2/115.2 kB\u001b[0m \u001b[31m12.3 MB/s\u001b[0m eta \u001b[36m0:00:00\u001b[0m\n",
            "\u001b[?25h  Downloading google_api_core-1.32.0-py2.py3-none-any.whl (93 kB)\n",
            "\u001b[2K     \u001b[90m━━━━━━━━━━━━━━━━━━━━━━━━━━━━━━━━━━━━━━━━\u001b[0m \u001b[32m93.6/93.6 kB\u001b[0m \u001b[31m10.0 MB/s\u001b[0m eta \u001b[36m0:00:00\u001b[0m\n",
            "\u001b[?25hCollecting google-auth<2.0dev,>=1.25.0 (from google-api-core[grpc]<3.0.0dev,>=1.22.1->firebase-admin)\n",
            "  Downloading google_auth-1.35.0-py2.py3-none-any.whl (152 kB)\n",
            "\u001b[2K     \u001b[90m━━━━━━━━━━━━━━━━━━━━━━━━━━━━━━━━━━━━━━━\u001b[0m \u001b[32m152.9/152.9 kB\u001b[0m \u001b[31m9.7 MB/s\u001b[0m eta \u001b[36m0:00:00\u001b[0m\n",
            "\u001b[?25hCollecting google-api-core[grpc]<3.0.0dev,>=1.22.1 (from firebase-admin)\n",
            "  Downloading google_api_core-1.31.6-py2.py3-none-any.whl (93 kB)\n",
            "\u001b[2K     \u001b[90m━━━━━━━━━━━━━━━━━━━━━━━━━━━━━━━━━━━━━━━━\u001b[0m \u001b[32m93.3/93.3 kB\u001b[0m \u001b[31m7.2 MB/s\u001b[0m eta \u001b[36m0:00:00\u001b[0m\n",
            "\u001b[?25h  Downloading google_api_core-1.31.5-py2.py3-none-any.whl (93 kB)\n",
            "\u001b[2K     \u001b[90m━━━━━━━━━━━━━━━━━━━━━━━━━━━━━━━━━━━━━━━━\u001b[0m \u001b[32m93.3/93.3 kB\u001b[0m \u001b[31m9.5 MB/s\u001b[0m eta \u001b[36m0:00:00\u001b[0m\n",
            "\u001b[?25h  Downloading google_api_core-1.31.4-py2.py3-none-any.whl (93 kB)\n",
            "\u001b[2K     \u001b[90m━━━━━━━━━━━━━━━━━━━━━━━━━━━━━━━━━━━━━━━━\u001b[0m \u001b[32m93.3/93.3 kB\u001b[0m \u001b[31m10.3 MB/s\u001b[0m eta \u001b[36m0:00:00\u001b[0m\n",
            "\u001b[?25h  Downloading google_api_core-1.31.3-py2.py3-none-any.whl (93 kB)\n",
            "\u001b[2K     \u001b[90m━━━━━━━━━━━━━━━━━━━━━━━━━━━━━━━━━━━━━━━━\u001b[0m \u001b[32m93.3/93.3 kB\u001b[0m \u001b[31m7.1 MB/s\u001b[0m eta \u001b[36m0:00:00\u001b[0m\n",
            "\u001b[?25hCollecting protobuf!=3.0.0.b2.post1,>=3.0.0b2 (from gcloud==0.17.0->pyrebase)\n",
            "  Downloading protobuf-3.17.3-py2.py3-none-any.whl (173 kB)\n",
            "\u001b[2K     \u001b[90m━━━━━━━━━━━━━━━━━━━━━━━━━━━━━━━━━━━━━━\u001b[0m \u001b[32m173.9/173.9 kB\u001b[0m \u001b[31m10.0 MB/s\u001b[0m eta \u001b[36m0:00:00\u001b[0m\n",
            "\u001b[?25hCollecting google-api-core[grpc]<3.0.0dev,>=1.22.1 (from firebase-admin)\n",
            "  Downloading google_api_core-1.31.2-py2.py3-none-any.whl (93 kB)\n",
            "\u001b[2K     \u001b[90m━━━━━━━━━━━━━━━━━━━━━━━━━━━━━━━━━━━━━━━━\u001b[0m \u001b[32m93.3/93.3 kB\u001b[0m \u001b[31m7.1 MB/s\u001b[0m eta \u001b[36m0:00:00\u001b[0m\n",
            "\u001b[?25hRequirement already satisfied: packaging>=14.3 in /usr/local/lib/python3.10/dist-packages (from google-api-core[grpc]<3.0.0dev,>=1.22.1->firebase-admin) (23.1)\n",
            "Requirement already satisfied: pytz in /usr/local/lib/python3.10/dist-packages (from google-api-core[grpc]<3.0.0dev,>=1.22.1->firebase-admin) (2022.7.1)\n",
            "  Downloading google_api_core-1.31.1-py2.py3-none-any.whl (93 kB)\n",
            "\u001b[2K     \u001b[90m━━━━━━━━━━━━━━━━━━━━━━━━━━━━━━━━━━━━━━━━\u001b[0m \u001b[32m93.1/93.1 kB\u001b[0m \u001b[31m9.6 MB/s\u001b[0m eta \u001b[36m0:00:00\u001b[0m\n",
            "\u001b[?25h  Downloading google_api_core-1.31.0-py2.py3-none-any.whl (93 kB)\n",
            "\u001b[2K     \u001b[90m━━━━━━━━━━━━━━━━━━━━━━━━━━━━━━━━━━━━━━━━\u001b[0m \u001b[32m93.1/93.1 kB\u001b[0m \u001b[31m10.3 MB/s\u001b[0m eta \u001b[36m0:00:00\u001b[0m\n",
            "\u001b[?25h  Downloading google_api_core-1.30.0-py2.py3-none-any.whl (93 kB)\n",
            "\u001b[2K     \u001b[90m━━━━━━━━━━━━━━━━━━━━━━━━━━━━━━━━━━━━━━━━\u001b[0m \u001b[32m93.2/93.2 kB\u001b[0m \u001b[31m8.6 MB/s\u001b[0m eta \u001b[36m0:00:00\u001b[0m\n",
            "\u001b[?25h  Downloading google_api_core-1.29.0-py2.py3-none-any.whl (93 kB)\n",
            "\u001b[2K     \u001b[90m━━━━━━━━━━━━━━━━━━━━━━━━━━━━━━━━━━━━━━━━\u001b[0m \u001b[32m93.1/93.1 kB\u001b[0m \u001b[31m10.2 MB/s\u001b[0m eta \u001b[36m0:00:00\u001b[0m\n",
            "\u001b[?25h  Downloading google_api_core-1.28.0-py2.py3-none-any.whl (92 kB)\n",
            "\u001b[2K     \u001b[90m━━━━━━━━━━━━━━━━━━━━━━━━━━━━━━━━━━━━━━━━\u001b[0m \u001b[32m93.0/93.0 kB\u001b[0m \u001b[31m9.6 MB/s\u001b[0m eta \u001b[36m0:00:00\u001b[0m\n",
            "\u001b[?25h  Downloading google_api_core-1.27.0-py2.py3-none-any.whl (93 kB)\n",
            "\u001b[2K     \u001b[90m━━━━━━━━━━━━━━━━━━━━━━━━━━━━━━━━━━━━━━━━\u001b[0m \u001b[32m93.2/93.2 kB\u001b[0m \u001b[31m9.9 MB/s\u001b[0m eta \u001b[36m0:00:00\u001b[0m\n",
            "\u001b[?25h  Downloading google_api_core-1.26.3-py2.py3-none-any.whl (93 kB)\n",
            "\u001b[2K     \u001b[90m━━━━━━━━━━━━━━━━━━━━━━━━━━━━━━━━━━━━━━━━\u001b[0m \u001b[32m93.1/93.1 kB\u001b[0m \u001b[31m10.4 MB/s\u001b[0m eta \u001b[36m0:00:00\u001b[0m\n",
            "\u001b[?25h  Downloading google_api_core-1.26.2-py2.py3-none-any.whl (93 kB)\n",
            "\u001b[2K     \u001b[90m━━━━━━━━━━━━━━━━━━━━━━━━━━━━━━━━━━━━━━━━\u001b[0m \u001b[32m93.0/93.0 kB\u001b[0m \u001b[31m9.7 MB/s\u001b[0m eta \u001b[36m0:00:00\u001b[0m\n",
            "\u001b[?25h  Downloading google_api_core-1.26.1-py2.py3-none-any.whl (92 kB)\n",
            "\u001b[2K     \u001b[90m━━━━━━━━━━━━━━━━━━━━━━━━━━━━━━━━━━━━━━━━\u001b[0m \u001b[32m93.0/93.0 kB\u001b[0m \u001b[31m9.7 MB/s\u001b[0m eta \u001b[36m0:00:00\u001b[0m\n",
            "\u001b[?25h  Downloading google_api_core-1.26.0-py2.py3-none-any.whl (92 kB)\n",
            "\u001b[2K     \u001b[90m━━━━━━━━━━━━━━━━━━━━━━━━━━━━━━━━━━━━━━━━\u001b[0m \u001b[32m92.9/92.9 kB\u001b[0m \u001b[31m10.7 MB/s\u001b[0m eta \u001b[36m0:00:00\u001b[0m\n",
            "\u001b[?25h  Downloading google_api_core-1.25.1-py2.py3-none-any.whl (92 kB)\n",
            "\u001b[2K     \u001b[90m━━━━━━━━━━━━━━━━━━━━━━━━━━━━━━━━━━━━━━━━\u001b[0m \u001b[32m92.3/92.3 kB\u001b[0m \u001b[31m10.1 MB/s\u001b[0m eta \u001b[36m0:00:00\u001b[0m\n",
            "\u001b[?25h  Downloading google_api_core-1.25.0-py2.py3-none-any.whl (92 kB)\n",
            "\u001b[2K     \u001b[90m━━━━━━━━━━━━━━━━━━━━━━━━━━━━━━━━━━━━━━━━\u001b[0m \u001b[32m92.3/92.3 kB\u001b[0m \u001b[31m9.2 MB/s\u001b[0m eta \u001b[36m0:00:00\u001b[0m\n",
            "\u001b[?25h  Downloading google_api_core-1.24.1-py2.py3-none-any.whl (92 kB)\n",
            "\u001b[2K     \u001b[90m━━━━━━━━━━━━━━━━━━━━━━━━━━━━━━━━━━━━━━━━\u001b[0m \u001b[32m92.0/92.0 kB\u001b[0m \u001b[31m9.9 MB/s\u001b[0m eta \u001b[36m0:00:00\u001b[0m\n",
            "\u001b[?25h  Downloading google_api_core-1.24.0-py2.py3-none-any.whl (91 kB)\n",
            "\u001b[2K     \u001b[90m━━━━━━━━━━━━━━━━━━━━━━━━━━━━━━━━━━━━━━━━\u001b[0m \u001b[32m92.0/92.0 kB\u001b[0m \u001b[31m6.5 MB/s\u001b[0m eta \u001b[36m0:00:00\u001b[0m\n",
            "\u001b[?25h  Downloading google_api_core-1.23.0-py2.py3-none-any.whl (91 kB)\n",
            "\u001b[2K     \u001b[90m━━━━━━━━━━━━━━━━━━━━━━━━━━━━━━━━━━━━━━━━\u001b[0m \u001b[32m92.0/92.0 kB\u001b[0m \u001b[31m9.8 MB/s\u001b[0m eta \u001b[36m0:00:00\u001b[0m\n",
            "\u001b[?25h  Downloading google_api_core-1.22.4-py2.py3-none-any.whl (91 kB)\n",
            "\u001b[2K     \u001b[90m━━━━━━━━━━━━━━━━━━━━━━━━━━━━━━━━━━━━━━━━\u001b[0m \u001b[32m91.7/91.7 kB\u001b[0m \u001b[31m10.4 MB/s\u001b[0m eta \u001b[36m0:00:00\u001b[0m\n",
            "\u001b[?25h  Downloading google_api_core-1.22.3-py2.py3-none-any.whl (91 kB)\n",
            "\u001b[2K     \u001b[90m━━━━━━━━━━━━━━━━━━━━━━━━━━━━━━━━━━━━━━━━\u001b[0m \u001b[32m91.2/91.2 kB\u001b[0m \u001b[31m9.3 MB/s\u001b[0m eta \u001b[36m0:00:00\u001b[0m\n",
            "\u001b[?25h  Downloading google_api_core-1.22.2-py2.py3-none-any.whl (91 kB)\n",
            "\u001b[2K     \u001b[90m━━━━━━━━━━━━━━━━━━━━━━━━━━━━━━━━━━━━━━━━\u001b[0m \u001b[32m91.2/91.2 kB\u001b[0m \u001b[31m11.3 MB/s\u001b[0m eta \u001b[36m0:00:00\u001b[0m\n",
            "\u001b[?25h  Downloading google_api_core-1.22.1-py2.py3-none-any.whl (91 kB)\n",
            "\u001b[2K     \u001b[90m━━━━━━━━━━━━━━━━━━━━━━━━━━━━━━━━━━━━━━━━\u001b[0m \u001b[32m91.1/91.1 kB\u001b[0m \u001b[31m9.8 MB/s\u001b[0m eta \u001b[36m0:00:00\u001b[0m\n",
            "\u001b[?25hCollecting cachecontrol>=0.12.6 (from firebase-admin)\n",
            "  Downloading CacheControl-0.12.11-py2.py3-none-any.whl (21 kB)\n",
            "  Downloading CacheControl-0.12.10-py2.py3-none-any.whl (20 kB)\n",
            "  Downloading CacheControl-0.12.9-py2.py3-none-any.whl (23 kB)\n",
            "  Downloading CacheControl-0.12.8-py2.py3-none-any.whl (23 kB)\n",
            "  Downloading CacheControl-0.12.7-py2.py3-none-any.whl (23 kB)\n",
            "  Downloading CacheControl-0.12.6-py2.py3-none-any.whl (19 kB)\n",
            "Collecting pyrebase\n",
            "  Downloading Pyrebase-3.0.26-py3-none-any.whl (9.5 kB)\n",
            "  Downloading Pyrebase-3.0.25-py3-none-any.whl (9.5 kB)\n",
            "  Downloading Pyrebase-3.0.24-py3-none-any.whl (9.6 kB)\n",
            "  Downloading Pyrebase-3.0.23-py3-none-any.whl (9.5 kB)\n",
            "  Downloading Pyrebase-3.0.22-py3-none-any.whl (9.2 kB)\n",
            "  Downloading Pyrebase-3.0.21-py3-none-any.whl (9.2 kB)\n",
            "  Downloading Pyrebase-3.0.18-py3-none-any.whl (7.0 kB)\n",
            "Requirement already satisfied: requests in /usr/local/lib/python3.10/dist-packages (from pyrebase) (2.27.1)\n",
            "Collecting sseclient (from pyrebase)\n",
            "  Downloading sseclient-0.0.27.tar.gz (7.5 kB)\n",
            "  Preparing metadata (setup.py) ... \u001b[?25l\u001b[?25hdone\n",
            "Collecting gcloud (from pyrebase)\n",
            "  Downloading gcloud-0.18.3.tar.gz (454 kB)\n",
            "\u001b[2K     \u001b[90m━━━━━━━━━━━━━━━━━━━━━━━━━━━━━━━━━━━━━━\u001b[0m \u001b[32m454.4/454.4 kB\u001b[0m \u001b[31m45.5 MB/s\u001b[0m eta \u001b[36m0:00:00\u001b[0m\n",
            "\u001b[?25h  Preparing metadata (setup.py) ... \u001b[?25l\u001b[?25hdone\n",
            "Requirement already satisfied: oauth2client in /usr/local/lib/python3.10/dist-packages (from pyrebase) (4.1.3)\n",
            "Collecting requests-toolbelt (from pyrebase)\n",
            "  Downloading requests_toolbelt-1.0.0-py2.py3-none-any.whl (54 kB)\n",
            "\u001b[2K     \u001b[90m━━━━━━━━━━━━━━━━━━━━━━━━━━━━━━━━━━━━━━━━\u001b[0m \u001b[32m54.5/54.5 kB\u001b[0m \u001b[31m6.2 MB/s\u001b[0m eta \u001b[36m0:00:00\u001b[0m\n",
            "\u001b[?25hCollecting python-jwt (from pyrebase)\n",
            "  Downloading python_jwt-4.0.0-py2.py3-none-any.whl (7.0 kB)\n",
            "Collecting pycrypto (from pyrebase)\n",
            "  Downloading pycrypto-2.6.1.tar.gz (446 kB)\n",
            "\u001b[2K     \u001b[90m━━━━━━━━━━━━━━━━━━━━━━━━━━━━━━━━━━━━━━\u001b[0m \u001b[32m446.2/446.2 kB\u001b[0m \u001b[31m45.2 MB/s\u001b[0m eta \u001b[36m0:00:00\u001b[0m\n",
            "\u001b[?25h  Preparing metadata (setup.py) ... \u001b[?25l\u001b[?25hdone\n",
            "Requirement already satisfied: grpcio<2.0dev,>=1.33.2 in /usr/local/lib/python3.10/dist-packages (from google-api-core[grpc]<3.0.0dev,>=1.22.1->firebase-admin) (1.54.0)\n",
            "Requirement already satisfied: grpcio-status<2.0dev,>=1.33.2 in /usr/local/lib/python3.10/dist-packages (from google-api-core[grpc]<3.0.0dev,>=1.22.1->firebase-admin) (1.48.2)\n",
            "Requirement already satisfied: urllib3<1.27,>=1.21.1 in /usr/local/lib/python3.10/dist-packages (from requests->pyrebase) (1.26.15)\n",
            "Requirement already satisfied: certifi>=2017.4.17 in /usr/local/lib/python3.10/dist-packages (from requests->pyrebase) (2022.12.7)\n",
            "Requirement already satisfied: charset-normalizer~=2.0.0 in /usr/local/lib/python3.10/dist-packages (from requests->pyrebase) (2.0.12)\n",
            "Requirement already satisfied: idna<4,>=2.5 in /usr/local/lib/python3.10/dist-packages (from requests->pyrebase) (3.4)\n",
            "Requirement already satisfied: google-auth-httplib2>=0.1.0 in /usr/local/lib/python3.10/dist-packages (from google-api-python-client>=1.7.8->firebase-admin) (0.1.0)\n",
            "Requirement already satisfied: uritemplate<5,>=3.0.1 in /usr/local/lib/python3.10/dist-packages (from google-api-python-client>=1.7.8->firebase-admin) (4.1.1)\n",
            "Requirement already satisfied: google-cloud-core<3.0.0dev,>=1.4.1 in /usr/local/lib/python3.10/dist-packages (from google-cloud-firestore>=2.1.0->firebase-admin) (2.3.2)\n",
            "Requirement already satisfied: proto-plus<2.0.0dev,>=1.22.0 in /usr/local/lib/python3.10/dist-packages (from google-cloud-firestore>=2.1.0->firebase-admin) (1.22.2)\n",
            "Requirement already satisfied: google-resumable-media>=2.3.2 in /usr/local/lib/python3.10/dist-packages (from google-cloud-storage>=1.37.1->firebase-admin) (2.5.0)\n",
            "Collecting jwcrypto>=1.4.2 (from python-jwt->pyrebase)\n",
            "  Downloading jwcrypto-1.4.2.tar.gz (85 kB)\n",
            "\u001b[2K     \u001b[90m━━━━━━━━━━━━━━━━━━━━━━━━━━━━━━━━━━━━━━━━\u001b[0m \u001b[32m85.1/85.1 kB\u001b[0m \u001b[31m11.3 MB/s\u001b[0m eta \u001b[36m0:00:00\u001b[0m\n",
            "\u001b[?25h  Preparing metadata (setup.py) ... \u001b[?25l\u001b[?25hdone\n",
            "Requirement already satisfied: cachetools<6.0,>=2.0.0 in /usr/local/lib/python3.10/dist-packages (from google-auth<3.0dev,>=2.14.1->google-api-core[grpc]<3.0.0dev,>=1.22.1->firebase-admin) (5.3.0)\n",
            "Requirement already satisfied: google-crc32c<2.0dev,>=1.0 in /usr/local/lib/python3.10/dist-packages (from google-resumable-media>=2.3.2->google-cloud-storage>=1.37.1->firebase-admin) (1.5.0)\n",
            "Requirement already satisfied: pyparsing!=3.0.0,!=3.0.1,!=3.0.2,!=3.0.3,<4,>=2.4.2 in /usr/local/lib/python3.10/dist-packages (from httplib2>=0.9.1->gcloud==0.17.0->pyrebase) (3.0.9)\n",
            "Requirement already satisfied: cryptography>=2.3 in /usr/local/lib/python3.10/dist-packages (from jwcrypto>=1.4.2->python-jwt->pyrebase) (40.0.2)\n",
            "Collecting deprecated (from jwcrypto>=1.4.2->python-jwt->pyrebase)\n",
            "  Downloading Deprecated-1.2.13-py2.py3-none-any.whl (9.6 kB)\n",
            "Requirement already satisfied: cffi>=1.12 in /usr/local/lib/python3.10/dist-packages (from cryptography>=2.3->jwcrypto>=1.4.2->python-jwt->pyrebase) (1.15.1)\n",
            "Requirement already satisfied: wrapt<2,>=1.10 in /usr/local/lib/python3.10/dist-packages (from deprecated->jwcrypto>=1.4.2->python-jwt->pyrebase) (1.14.1)\n",
            "Requirement already satisfied: pycparser in /usr/local/lib/python3.10/dist-packages (from cffi>=1.12->cryptography>=2.3->jwcrypto>=1.4.2->python-jwt->pyrebase) (2.21)\n",
            "Building wheels for collected packages: gcloud, pycrypto, sseclient, jwcrypto\n",
            "  Building wheel for gcloud (setup.py) ... \u001b[?25l\u001b[?25hdone\n",
            "  Created wheel for gcloud: filename=gcloud-0.18.3-py3-none-any.whl size=602934 sha256=dfc2e1c98380ca7d005a6620bb603450a1f32a1992906b0690faffdd995611e4\n",
            "  Stored in directory: /root/.cache/pip/wheels/7c/30/88/5017af921da3a33af785f0d0fd3e944b845bc62a445a2c2f69\n",
            "  Building wheel for pycrypto (setup.py) ... \u001b[?25l\u001b[?25hdone\n",
            "  Created wheel for pycrypto: filename=pycrypto-2.6.1-cp310-cp310-linux_x86_64.whl size=499011 sha256=6e5ac008f460845ba3d1305d3ab160e246acdf04af62c0390d027676c722455c\n",
            "  Stored in directory: /root/.cache/pip/wheels/e8/4b/5b/b10a6fc885057b6ff9fbd5691d7e700d0a9408f80b7e6f12e0\n",
            "  Building wheel for sseclient (setup.py) ... \u001b[?25l\u001b[?25hdone\n",
            "  Created wheel for sseclient: filename=sseclient-0.0.27-py3-none-any.whl size=5584 sha256=2f1d0f74cdcc787fa987e6949a5b1f6931b7e4bab3eaaa103caab0d1e246aa0f\n",
            "  Stored in directory: /root/.cache/pip/wheels/60/57/0e/09b1264923280e935a34cc543b7f147f5df12490bd7a992f42\n",
            "  Building wheel for jwcrypto (setup.py) ... \u001b[?25l\u001b[?25hdone\n",
            "  Created wheel for jwcrypto: filename=jwcrypto-1.4.2-py3-none-any.whl size=90487 sha256=611160543d77d7176a48b9258e2d58bd4e83bc360440379b9e8050308acd55ba\n",
            "  Stored in directory: /root/.cache/pip/wheels/f1/68/e6/e5116968e037c817be7a184ee8d195642694e719e7089a0fd3\n",
            "Successfully built gcloud pycrypto sseclient jwcrypto\n",
            "Installing collected packages: pycrypto, deprecated, sseclient, requests-toolbelt, jwcrypto, gcloud, python-jwt, pyrebase\n",
            "Successfully installed deprecated-1.2.13 gcloud-0.18.3 jwcrypto-1.4.2 pycrypto-2.6.1 pyrebase-3.0.18 python-jwt-4.0.0 requests-toolbelt-1.0.0 sseclient-0.0.27\n"
          ]
        }
      ],
      "source": [
        "!pip install firebase-admin pyrebase"
      ]
    },
    {
      "cell_type": "code",
      "execution_count": null,
      "metadata": {
        "colab": {
          "base_uri": "https://localhost:8080/"
        },
        "id": "QYz1Mwl4CZDT",
        "outputId": "a9f15d85-0f44-4824-b54c-54f659cba572"
      },
      "outputs": [
        {
          "name": "stdout",
          "output_type": "stream",
          "text": [
            "Looking in indexes: https://pypi.org/simple, https://us-python.pkg.dev/colab-wheels/public/simple/\n",
            "Collecting pymongo\n",
            "  Downloading pymongo-4.3.3-cp310-cp310-manylinux_2_17_x86_64.manylinux2014_x86_64.whl (492 kB)\n",
            "\u001b[2K     \u001b[90m━━━━━━━━━━━━━━━━━━━━━━━━━━━━━━━━━━━━━━━\u001b[0m \u001b[32m492.9/492.9 kB\u001b[0m \u001b[31m8.5 MB/s\u001b[0m eta \u001b[36m0:00:00\u001b[0m\n",
            "\u001b[?25hCollecting dnspython<3.0.0,>=1.16.0 (from pymongo)\n",
            "  Downloading dnspython-2.3.0-py3-none-any.whl (283 kB)\n",
            "\u001b[2K     \u001b[90m━━━━━━━━━━━━━━━━━━━━━━━━━━━━━━━━━━━━━━\u001b[0m \u001b[32m283.7/283.7 kB\u001b[0m \u001b[31m22.9 MB/s\u001b[0m eta \u001b[36m0:00:00\u001b[0m\n",
            "\u001b[?25hInstalling collected packages: dnspython, pymongo\n",
            "Successfully installed dnspython-2.3.0 pymongo-4.3.3\n"
          ]
        }
      ],
      "source": [
        "!pip install pymongo"
      ]
    },
    {
      "cell_type": "code",
      "execution_count": null,
      "metadata": {
        "colab": {
          "base_uri": "https://localhost:8080/"
        },
        "id": "RtuquzomrfMP",
        "outputId": "9287b057-4c8e-4695-e2b7-22d3080f9847"
      },
      "outputs": [
        {
          "name": "stdout",
          "output_type": "stream",
          "text": [
            "Looking in indexes: https://pypi.org/simple, https://us-python.pkg.dev/colab-wheels/public/simple/\n",
            "Requirement already satisfied: google-cloud-storage in /usr/local/lib/python3.10/dist-packages (2.8.0)\n",
            "Requirement already satisfied: google-cloud-bigquery in /usr/local/lib/python3.10/dist-packages (3.9.0)\n",
            "Requirement already satisfied: google-auth in /usr/local/lib/python3.10/dist-packages (2.17.3)\n",
            "Requirement already satisfied: google-api-core!=2.0.*,!=2.1.*,!=2.2.*,!=2.3.0,<3.0.0dev,>=1.31.5 in /usr/local/lib/python3.10/dist-packages (from google-cloud-storage) (2.11.0)\n",
            "Requirement already satisfied: google-cloud-core<3.0dev,>=2.3.0 in /usr/local/lib/python3.10/dist-packages (from google-cloud-storage) (2.3.2)\n",
            "Requirement already satisfied: google-resumable-media>=2.3.2 in /usr/local/lib/python3.10/dist-packages (from google-cloud-storage) (2.5.0)\n",
            "Requirement already satisfied: requests<3.0.0dev,>=2.18.0 in /usr/local/lib/python3.10/dist-packages (from google-cloud-storage) (2.27.1)\n",
            "Requirement already satisfied: grpcio<2.0dev,>=1.47.0 in /usr/local/lib/python3.10/dist-packages (from google-cloud-bigquery) (1.54.0)\n",
            "Requirement already satisfied: proto-plus<2.0.0dev,>=1.15.0 in /usr/local/lib/python3.10/dist-packages (from google-cloud-bigquery) (1.22.2)\n",
            "Requirement already satisfied: packaging>=20.0.0 in /usr/local/lib/python3.10/dist-packages (from google-cloud-bigquery) (23.1)\n",
            "Requirement already satisfied: protobuf!=3.20.0,!=3.20.1,!=4.21.0,!=4.21.1,!=4.21.2,!=4.21.3,!=4.21.4,!=4.21.5,<5.0.0dev,>=3.19.5 in /usr/local/lib/python3.10/dist-packages (from google-cloud-bigquery) (3.20.3)\n",
            "Requirement already satisfied: python-dateutil<3.0dev,>=2.7.2 in /usr/local/lib/python3.10/dist-packages (from google-cloud-bigquery) (2.8.2)\n",
            "Requirement already satisfied: cachetools<6.0,>=2.0.0 in /usr/local/lib/python3.10/dist-packages (from google-auth) (5.3.0)\n",
            "Requirement already satisfied: pyasn1-modules>=0.2.1 in /usr/local/lib/python3.10/dist-packages (from google-auth) (0.3.0)\n",
            "Requirement already satisfied: six>=1.9.0 in /usr/local/lib/python3.10/dist-packages (from google-auth) (1.16.0)\n",
            "Requirement already satisfied: rsa<5,>=3.1.4 in /usr/local/lib/python3.10/dist-packages (from google-auth) (4.9)\n",
            "Requirement already satisfied: googleapis-common-protos<2.0dev,>=1.56.2 in /usr/local/lib/python3.10/dist-packages (from google-api-core!=2.0.*,!=2.1.*,!=2.2.*,!=2.3.0,<3.0.0dev,>=1.31.5->google-cloud-storage) (1.59.0)\n",
            "Requirement already satisfied: grpcio-status<2.0dev,>=1.33.2 in /usr/local/lib/python3.10/dist-packages (from google-api-core!=2.0.*,!=2.1.*,!=2.2.*,!=2.3.0,<3.0.0dev,>=1.31.5->google-cloud-storage) (1.48.2)\n",
            "Requirement already satisfied: google-crc32c<2.0dev,>=1.0 in /usr/local/lib/python3.10/dist-packages (from google-resumable-media>=2.3.2->google-cloud-storage) (1.5.0)\n",
            "Requirement already satisfied: pyasn1<0.6.0,>=0.4.6 in /usr/local/lib/python3.10/dist-packages (from pyasn1-modules>=0.2.1->google-auth) (0.5.0)\n",
            "Requirement already satisfied: urllib3<1.27,>=1.21.1 in /usr/local/lib/python3.10/dist-packages (from requests<3.0.0dev,>=2.18.0->google-cloud-storage) (1.26.15)\n",
            "Requirement already satisfied: certifi>=2017.4.17 in /usr/local/lib/python3.10/dist-packages (from requests<3.0.0dev,>=2.18.0->google-cloud-storage) (2022.12.7)\n",
            "Requirement already satisfied: charset-normalizer~=2.0.0 in /usr/local/lib/python3.10/dist-packages (from requests<3.0.0dev,>=2.18.0->google-cloud-storage) (2.0.12)\n",
            "Requirement already satisfied: idna<4,>=2.5 in /usr/local/lib/python3.10/dist-packages (from requests<3.0.0dev,>=2.18.0->google-cloud-storage) (3.4)\n"
          ]
        }
      ],
      "source": [
        "!pip install google-cloud-storage google-cloud-bigquery google-auth"
      ]
    },
    {
      "cell_type": "code",
      "execution_count": null,
      "metadata": {
        "id": "-3SZ1TB_Doae"
      },
      "outputs": [],
      "source": [
        "import json\n",
        "import numpy as np\n",
        "import pandas as pd\n",
        "import firebase_admin\n",
        "from firebase_admin import credentials\n",
        "from firebase_admin import firestore\n",
        "from pandas.io.json import json_normalize\n",
        "from google.cloud import firestore"
      ]
    },
    {
      "cell_type": "code",
      "execution_count": null,
      "metadata": {
        "colab": {
          "base_uri": "https://localhost:8080/"
        },
        "id": "aK_6_c2s22GP",
        "outputId": "c813ae3c-e16b-474a-9246-1fc662d67fb7"
      },
      "outputs": [
        {
          "name": "stdout",
          "output_type": "stream",
          "text": [
            "Looking in indexes: https://pypi.org/simple, https://us-python.pkg.dev/colab-wheels/public/simple/\n",
            "Requirement already satisfied: pyrebase in /usr/local/lib/python3.10/dist-packages (3.0.18)\n",
            "Requirement already satisfied: requests in /usr/local/lib/python3.10/dist-packages (from pyrebase) (2.27.1)\n",
            "Requirement already satisfied: sseclient in /usr/local/lib/python3.10/dist-packages (from pyrebase) (0.0.27)\n",
            "Requirement already satisfied: gcloud in /usr/local/lib/python3.10/dist-packages (from pyrebase) (0.18.3)\n",
            "Requirement already satisfied: oauth2client in /usr/local/lib/python3.10/dist-packages (from pyrebase) (4.1.3)\n",
            "Requirement already satisfied: requests-toolbelt in /usr/local/lib/python3.10/dist-packages (from pyrebase) (1.0.0)\n",
            "Requirement already satisfied: python-jwt in /usr/local/lib/python3.10/dist-packages (from pyrebase) (4.0.0)\n",
            "Requirement already satisfied: pycrypto in /usr/local/lib/python3.10/dist-packages (from pyrebase) (2.6.1)\n",
            "Requirement already satisfied: httplib2>=0.9.1 in /usr/local/lib/python3.10/dist-packages (from gcloud->pyrebase) (0.21.0)\n",
            "Requirement already satisfied: googleapis-common-protos in /usr/local/lib/python3.10/dist-packages (from gcloud->pyrebase) (1.59.0)\n",
            "Requirement already satisfied: protobuf!=3.0.0.b2.post1,>=3.0.0b2 in /usr/local/lib/python3.10/dist-packages (from gcloud->pyrebase) (3.20.3)\n",
            "Requirement already satisfied: six in /usr/local/lib/python3.10/dist-packages (from gcloud->pyrebase) (1.16.0)\n",
            "Requirement already satisfied: pyasn1>=0.1.7 in /usr/local/lib/python3.10/dist-packages (from oauth2client->pyrebase) (0.5.0)\n",
            "Requirement already satisfied: pyasn1-modules>=0.0.5 in /usr/local/lib/python3.10/dist-packages (from oauth2client->pyrebase) (0.3.0)\n",
            "Requirement already satisfied: rsa>=3.1.4 in /usr/local/lib/python3.10/dist-packages (from oauth2client->pyrebase) (4.9)\n",
            "Requirement already satisfied: jwcrypto>=1.4.2 in /usr/local/lib/python3.10/dist-packages (from python-jwt->pyrebase) (1.4.2)\n",
            "Requirement already satisfied: urllib3<1.27,>=1.21.1 in /usr/local/lib/python3.10/dist-packages (from requests->pyrebase) (1.26.15)\n",
            "Requirement already satisfied: certifi>=2017.4.17 in /usr/local/lib/python3.10/dist-packages (from requests->pyrebase) (2022.12.7)\n",
            "Requirement already satisfied: charset-normalizer~=2.0.0 in /usr/local/lib/python3.10/dist-packages (from requests->pyrebase) (2.0.12)\n",
            "Requirement already satisfied: idna<4,>=2.5 in /usr/local/lib/python3.10/dist-packages (from requests->pyrebase) (3.4)\n",
            "Requirement already satisfied: pyparsing!=3.0.0,!=3.0.1,!=3.0.2,!=3.0.3,<4,>=2.4.2 in /usr/local/lib/python3.10/dist-packages (from httplib2>=0.9.1->gcloud->pyrebase) (3.0.9)\n",
            "Requirement already satisfied: cryptography>=2.3 in /usr/local/lib/python3.10/dist-packages (from jwcrypto>=1.4.2->python-jwt->pyrebase) (40.0.2)\n",
            "Requirement already satisfied: deprecated in /usr/local/lib/python3.10/dist-packages (from jwcrypto>=1.4.2->python-jwt->pyrebase) (1.2.13)\n",
            "Requirement already satisfied: cffi>=1.12 in /usr/local/lib/python3.10/dist-packages (from cryptography>=2.3->jwcrypto>=1.4.2->python-jwt->pyrebase) (1.15.1)\n",
            "Requirement already satisfied: wrapt<2,>=1.10 in /usr/local/lib/python3.10/dist-packages (from deprecated->jwcrypto>=1.4.2->python-jwt->pyrebase) (1.14.1)\n",
            "Requirement already satisfied: pycparser in /usr/local/lib/python3.10/dist-packages (from cffi>=1.12->cryptography>=2.3->jwcrypto>=1.4.2->python-jwt->pyrebase) (2.21)\n"
          ]
        }
      ],
      "source": [
        "!pip install pyrebase"
      ]
    },
    {
      "cell_type": "code",
      "execution_count": null,
      "metadata": {
        "colab": {
          "base_uri": "https://localhost:8080/"
        },
        "id": "WE3BTCqU3Qnc",
        "outputId": "299ca434-ab9d-4c7d-fc5c-f269ab9b1cee"
      },
      "outputs": [
        {
          "name": "stdout",
          "output_type": "stream",
          "text": [
            "Looking in indexes: https://pypi.org/simple, https://us-python.pkg.dev/colab-wheels/public/simple/\n",
            "Collecting PyJWT\n",
            "  Downloading PyJWT-2.6.0-py3-none-any.whl (20 kB)\n",
            "Installing collected packages: PyJWT\n",
            "Successfully installed PyJWT-2.6.0\n"
          ]
        }
      ],
      "source": [
        "!pip install PyJWT"
      ]
    },
    {
      "cell_type": "code",
      "execution_count": null,
      "metadata": {
        "colab": {
          "base_uri": "https://localhost:8080/",
          "height": 469
        },
        "id": "h7Az4Gc63ES2",
        "outputId": "093c4442-733a-41a8-bb7c-00a4a130c2a1"
      },
      "outputs": [
        {
          "ename": "ImportError",
          "evalue": "ignored",
          "output_type": "error",
          "traceback": [
            "\u001b[0;31m---------------------------------------------------------------------------\u001b[0m",
            "\u001b[0;31mImportError\u001b[0m                               Traceback (most recent call last)",
            "\u001b[0;32m<ipython-input-16-e9dcec989eeb>\u001b[0m in \u001b[0;36m<cell line: 1>\u001b[0;34m()\u001b[0m\n\u001b[0;32m----> 1\u001b[0;31m \u001b[0;32mimport\u001b[0m \u001b[0mpyrebase\u001b[0m\u001b[0;34m\u001b[0m\u001b[0;34m\u001b[0m\u001b[0m\n\u001b[0m",
            "\u001b[0;32m/usr/local/lib/python3.10/dist-packages/pyrebase/__init__.py\u001b[0m in \u001b[0;36m<module>\u001b[0;34m\u001b[0m\n\u001b[0;32m----> 1\u001b[0;31m \u001b[0;32mfrom\u001b[0m \u001b[0;34m.\u001b[0m\u001b[0mpyrebase\u001b[0m \u001b[0;32mimport\u001b[0m \u001b[0minitialize_app\u001b[0m\u001b[0;34m\u001b[0m\u001b[0;34m\u001b[0m\u001b[0m\n\u001b[0m",
            "\u001b[0;32m/usr/local/lib/python3.10/dist-packages/pyrebase/pyrebase.py\u001b[0m in \u001b[0;36m<module>\u001b[0;34m\u001b[0m\n\u001b[1;32m     18\u001b[0m \u001b[0;32mfrom\u001b[0m \u001b[0mgcloud\u001b[0m \u001b[0;32mimport\u001b[0m \u001b[0mstorage\u001b[0m\u001b[0;34m\u001b[0m\u001b[0;34m\u001b[0m\u001b[0m\n\u001b[1;32m     19\u001b[0m \u001b[0;32mfrom\u001b[0m \u001b[0mrequests\u001b[0m\u001b[0;34m.\u001b[0m\u001b[0mpackages\u001b[0m\u001b[0;34m.\u001b[0m\u001b[0murllib3\u001b[0m\u001b[0;34m.\u001b[0m\u001b[0mcontrib\u001b[0m\u001b[0;34m.\u001b[0m\u001b[0mappengine\u001b[0m \u001b[0;32mimport\u001b[0m \u001b[0mis_appengine_sandbox\u001b[0m\u001b[0;34m\u001b[0m\u001b[0;34m\u001b[0m\u001b[0m\n\u001b[0;32m---> 20\u001b[0;31m \u001b[0;32mfrom\u001b[0m \u001b[0mrequests_toolbelt\u001b[0m\u001b[0;34m.\u001b[0m\u001b[0madapters\u001b[0m \u001b[0;32mimport\u001b[0m \u001b[0mappengine\u001b[0m\u001b[0;34m\u001b[0m\u001b[0;34m\u001b[0m\u001b[0m\n\u001b[0m\u001b[1;32m     21\u001b[0m \u001b[0;34m\u001b[0m\u001b[0m\n\u001b[1;32m     22\u001b[0m \u001b[0;32mimport\u001b[0m \u001b[0mjwt\u001b[0m\u001b[0;34m\u001b[0m\u001b[0;34m\u001b[0m\u001b[0m\n",
            "\u001b[0;32m/usr/local/lib/python3.10/dist-packages/requests_toolbelt/adapters/appengine.py\u001b[0m in \u001b[0;36m<module>\u001b[0;34m\u001b[0m\n\u001b[1;32m     40\u001b[0m \u001b[0;34m\u001b[0m\u001b[0m\n\u001b[1;32m     41\u001b[0m \u001b[0;32mfrom\u001b[0m \u001b[0;34m.\u001b[0m\u001b[0;34m.\u001b[0m \u001b[0;32mimport\u001b[0m \u001b[0mexceptions\u001b[0m \u001b[0;32mas\u001b[0m \u001b[0mexc\u001b[0m\u001b[0;34m\u001b[0m\u001b[0;34m\u001b[0m\u001b[0m\n\u001b[0;32m---> 42\u001b[0;31m \u001b[0;32mfrom\u001b[0m \u001b[0;34m.\u001b[0m\u001b[0;34m.\u001b[0m\u001b[0m_compat\u001b[0m \u001b[0;32mimport\u001b[0m \u001b[0mgaecontrib\u001b[0m\u001b[0;34m\u001b[0m\u001b[0;34m\u001b[0m\u001b[0m\n\u001b[0m\u001b[1;32m     43\u001b[0m \u001b[0;32mfrom\u001b[0m \u001b[0;34m.\u001b[0m\u001b[0;34m.\u001b[0m\u001b[0m_compat\u001b[0m \u001b[0;32mimport\u001b[0m \u001b[0mtimeout\u001b[0m\u001b[0;34m\u001b[0m\u001b[0;34m\u001b[0m\u001b[0m\n\u001b[1;32m     44\u001b[0m \u001b[0;34m\u001b[0m\u001b[0m\n",
            "\u001b[0;31mImportError\u001b[0m: cannot import name 'gaecontrib' from 'requests_toolbelt._compat' (/usr/local/lib/python3.10/dist-packages/requests_toolbelt/_compat.py)",
            "",
            "\u001b[0;31m---------------------------------------------------------------------------\u001b[0;32m\nNOTE: If your import is failing due to a missing package, you can\nmanually install dependencies using either !pip or !apt.\n\nTo view examples of installing some common dependencies, click the\n\"Open Examples\" button below.\n\u001b[0;31m---------------------------------------------------------------------------\u001b[0m\n"
          ]
        }
      ],
      "source": [
        "import pyrebase"
      ]
    },
    {
      "cell_type": "markdown",
      "metadata": {
        "id": "3erS_ruHpGJ1"
      },
      "source": [
        "##Firebase\n"
      ]
    },
    {
      "cell_type": "code",
      "execution_count": null,
      "metadata": {
        "id": "XX2x6N-_WMai"
      },
      "outputs": [],
      "source": [
        "import firebase_admin\n",
        "from firebase_admin import credentials\n",
        "from firebase_admin import firestore\n",
        "\n",
        "# Configuração do Firestore, substitua o caminho abaixo pelo caminho do arquivo JSON que você baixou\n",
        "# cred = credentials.Certificate('/content/dashboards-b2b-ad1-firebase-adminsdk-5cg9w-989f7bcafa.json') #chave\n",
        "# firebase_admin.initialize_app(cred)\n",
        "\n",
        "# Cria uma instância do cliente Firestore\n",
        "# db = firestore.client()"
      ]
    },
    {
      "cell_type": "code",
      "execution_count": null,
      "metadata": {
        "colab": {
          "base_uri": "https://localhost:8080/"
        },
        "id": "G8GrXjuB9Cpy",
        "outputId": "657f8933-61b2-471c-ca9e-7048b3cea511"
      },
      "outputs": [
        {
          "data": {
            "text/plain": [
              "<google.cloud.firestore_v1.client.Client at 0x7f4381791ae0>"
            ]
          },
          "execution_count": 13,
          "metadata": {},
          "output_type": "execute_result"
        }
      ],
      "source": [
        "db"
      ]
    },
    {
      "cell_type": "code",
      "execution_count": null,
      "metadata": {
        "colab": {
          "base_uri": "https://localhost:8080/"
        },
        "id": "g5FNd4X6W0YQ",
        "outputId": "26dc758d-73c9-4695-8feb-46a31505171d"
      },
      "outputs": [
        {
          "name": "stdout",
          "output_type": "stream",
          "text": [
            "Estudantes\n",
            "Turmas\n"
          ]
        }
      ],
      "source": [
        "# Listar todas as coleções do banco de dados\n",
        "collections = db.collections()\n",
        "for collection in collections:\n",
        "    print(collection.id)"
      ]
    },
    {
      "cell_type": "markdown",
      "metadata": {
        "id": "0pvbkNwaB_2G"
      },
      "source": [
        "##DF/csv"
      ]
    },
    {
      "cell_type": "code",
      "execution_count": null,
      "metadata": {
        "colab": {
          "base_uri": "https://localhost:8080/"
        },
        "id": "OgXiPC1BCCu4",
        "outputId": "551e4169-cab8-4003-de99-69bc4570c789"
      },
      "outputs": [
        {
          "name": "stdout",
          "output_type": "stream",
          "text": [
            "     experienciaProfissional statusEmpregabilidade  uf  CEP complemento  \\\n",
            "0                         []             Empregado  PR                    \n",
            "1                         []             Empregado  PE                    \n",
            "2                         []        Não Empregável  SP  NaN               \n",
            "3                         []        Não Empregável  SP  NaN               \n",
            "4                         []        Não Empregável  SP  NaN               \n",
            "...                      ...                   ...  ..  ...         ...   \n",
            "1683                      []             Empregado  PE                    \n",
            "1684                      []           Em Formação  RJ                    \n",
            "1685                      []             Empregado  RS                    \n",
            "1686                      []             Empregado  RJ                    \n",
            "1687                      []           Em Formação  MG                    \n",
            "\n",
            "     dataNascimento     telefone numero          cpf tipoDeficiencia  ...  \\\n",
            "0      698700449074                                                   ...   \n",
            "1      667164449077                                                   ...   \n",
            "2      499737600000  11945780220    268  97743056200                  ...   \n",
            "3      782438400000  19991811496    455  93030773200                  ...   \n",
            "4      579225600000  11982024826    414  60143464800                  ...   \n",
            "...             ...          ...    ...          ...             ...  ...   \n",
            "1683   256931097982                                                   ...   \n",
            "1684   696902400000  21999673858                                      ...   \n",
            "1685   635628449069                                                   ...   \n",
            "1686   761858849079                                                   ...   \n",
            "1687   978307200000  34997927076                                      ...   \n",
            "\n",
            "            bootcampCodigo nacionalidade                      nomeCompleto  \\\n",
            "0     hzymD9j5KwP9r4Ae33t3                    FRANCELLOISE ANTUNES CARDOSO   \n",
            "1     6FFmCn0K9rpi4p7iLAMK                       WALLACE ALMEIDA VALERIANO   \n",
            "2     OvL1dam3Yy4IzlgP4TJm                            MAGDA DANTAS SANTANA   \n",
            "3     OvL1dam3Yy4IzlgP4TJm                DENER AUGUSTO DOS ANJOS OLIVEIRA   \n",
            "4     OvL1dam3Yy4IzlgP4TJm                           THOMAZ NOBUKI PEREIRA   \n",
            "...                    ...           ...                               ...   \n",
            "1683  lCWu2zPwrWCyIijGjS4c                       FÁBIO FERREIRA DOS SANTOS   \n",
            "1684  uyMEdf66N9WqSJ35XSP1                          RAPHAEL PACHECO XAVIER   \n",
            "1685  hx5dHDdRlX6q1LAysknt                           ALINE PACHECO MARTINS   \n",
            "1686  koH17PebhftgjcWzxQFc                            HUGO PEDRA GONÇALVES   \n",
            "1687  uyMEdf66N9WqSJ35XSP1                     VICTOR HUGO PAULA RODRIGUES   \n",
            "\n",
            "                    areaFormacao       cep  \\\n",
            "0     Ciências Humanas e Sociais       NaN   \n",
            "1                Ciências Exatas       NaN   \n",
            "2                            NaN  06787360   \n",
            "3                            NaN  13180320   \n",
            "4                            NaN  06149250   \n",
            "...                          ...       ...   \n",
            "1683             Ciências Exatas       NaN   \n",
            "1684                         NaN       NaN   \n",
            "1685               Não informado       NaN   \n",
            "1686             Ciências Exatas       NaN   \n",
            "1687                         NaN       NaN   \n",
            "\n",
            "                              empregabilidadeLastUpdate  \\\n",
            "0                                                   NaN   \n",
            "1                                                   NaN   \n",
            "2                                                   NaN   \n",
            "3                                                   NaN   \n",
            "4                                                   NaN   \n",
            "...                                                 ...   \n",
            "1683                                                NaN   \n",
            "1684                                                NaN   \n",
            "1685                                                NaN   \n",
            "1686  Wed Jun 08 2022 15:36:15 GMT+0000 (Coordinated...   \n",
            "1687                                                NaN   \n",
            "\n",
            "                                empregabilidadeUpdateBy  \\\n",
            "0                                                   NaN   \n",
            "1                                                   NaN   \n",
            "2                                                   NaN   \n",
            "3                                                   NaN   \n",
            "4                                                   NaN   \n",
            "...                                                 ...   \n",
            "1683                                                NaN   \n",
            "1684                                                NaN   \n",
            "1685                                                NaN   \n",
            "1686  {'type': 'Placement', 'uid': 'VpXRjNf22MNy6oSL...   \n",
            "1687                                                NaN   \n",
            "\n",
            "                                              historico  \\\n",
            "0                                                   NaN   \n",
            "1                                                   NaN   \n",
            "2                                                   NaN   \n",
            "3                                                   NaN   \n",
            "4                                                   NaN   \n",
            "...                                                 ...   \n",
            "1683                                                NaN   \n",
            "1684                                                NaN   \n",
            "1685                                                NaN   \n",
            "1686  [{'status': 'Empregado', 'novaData': 'Wed Jun ...   \n",
            "1687                                                NaN   \n",
            "\n",
            "                 graduation nomeDoCursoSuperior  \n",
            "0                       NaN                 NaN  \n",
            "1                       NaN                 NaN  \n",
            "2                       NaN                 NaN  \n",
            "3                       NaN                 NaN  \n",
            "4                       NaN                 NaN  \n",
            "...                     ...                 ...  \n",
            "1683                    NaN                 NaN  \n",
            "1684  Ensino Médio Completo                 NaN  \n",
            "1685                    NaN                 NaN  \n",
            "1686                    NaN                 NaN  \n",
            "1687      Mestrado Completo                 NaN  \n",
            "\n",
            "[1688 rows x 48 columns]\n"
          ]
        }
      ],
      "source": [
        "# Definir a referência da coleção que você deseja acessar\n",
        "estudantes_ref = db.collection('Estudantes')\n",
        "\n",
        "# Obter todos os documentos da coleção\n",
        "estudantes_docs = estudantes_ref.get()\n",
        "\n",
        "# Criar uma lista vazia para armazenar os dados dos documentos\n",
        "estudantes_data = []\n",
        "\n",
        "# Iterar sobre cada documento e adicionar seus dados à lista\n",
        "for doc in estudantes_docs:\n",
        "    estudantes_data.append(doc.to_dict())\n",
        "\n",
        "# Criar um DataFrame do Pandas a partir dos dados\n",
        "df_estudantes = pd.DataFrame(estudantes_data)\n",
        "print(df_estudantes)"
      ]
    },
    {
      "cell_type": "code",
      "execution_count": null,
      "metadata": {
        "id": "tzpMGiogNnrh"
      },
      "outputs": [],
      "source": [
        "df_estudantes.to_csv('estudantes.csv', index=False)"
      ]
    },
    {
      "cell_type": "code",
      "execution_count": null,
      "metadata": {
        "colab": {
          "base_uri": "https://localhost:8080/"
        },
        "id": "GJ9jxJZYIfwg",
        "outputId": "919897b7-5c41-4315-9a10-9667d926352c"
      },
      "outputs": [
        {
          "name": "stdout",
          "output_type": "stream",
          "text": [
            "   fimContrato  naoEmpregaveis                 professorDoisNome  desistentes  \\\n",
            "0   2022-02-17            10.0    FELIPE SOARES MUYLAERT BARROSO          5.0   \n",
            "1   2022-03-03             9.0       IGOR GONDIM SOARES DE LEMOS          6.0   \n",
            "2   2021-08-29            14.0                    RENATO PEREIRA         11.0   \n",
            "3          NaN            19.0                               NaN         18.0   \n",
            "4   2021-12-30             8.0  JOSÉ ALMIR DE SOUZA GOMES JÚNIOR          4.0   \n",
            "5   2022-08-29             4.0                     Renan Mussato          2.0   \n",
            "6          NaN            24.0                               NaN         16.0   \n",
            "7          NaN             9.0                               NaN          9.0   \n",
            "8   2021-10-07             1.0                  LEIDIANE CASTELO          1.0   \n",
            "9          NaN            21.0               Diogo Arruda Soares         17.0   \n",
            "10         NaN            14.0                               NaN         12.0   \n",
            "11  2022-04-28             6.0                     MÁRCIA FLORES          6.0   \n",
            "12         NaN             8.0                               NaN          8.0   \n",
            "13  2022-09-19            22.0       Igor Gondim Soares de Lemos         20.0   \n",
            "14  2022-05-26            16.0             LUIZ EDUARDO PRANDINI         13.0   \n",
            "15  2022-07-28            13.0        CAMILA VIDERES DE OLIVEIRA         12.0   \n",
            "16  2022-06-16            11.0                 VICTOR SENA ICOMA          9.0   \n",
            "17         NaN            18.0            Tatiana Dias Chiacchio         10.0   \n",
            "18         NaN            24.0                               NaN         20.0   \n",
            "19         NaN            21.0                      Victor Icoma         16.0   \n",
            "20  2021-08-29             5.0       IGOR GONDIM SOARES DE LEMOS          5.0   \n",
            "21  2021-11-10            13.0       IGOR GONDIM SOARES DE LEMOS          6.0   \n",
            "22         NaN            14.0                               NaN         13.0   \n",
            "23  2022-04-28            10.0    FELIPE SOARES MUYLAERT BARROSO          8.0   \n",
            "24  2022-05-26            15.0             LUIZ EDUARDO PRANDINI         14.0   \n",
            "25         NaN             8.0                               NaN          6.0   \n",
            "26         NaN            16.0       LORENA DE OLIVEIRA MEIRELES         15.0   \n",
            "27  2022-07-14            11.0                   BISMARK WILLIAM          9.0   \n",
            "28         NaN             NaN                               NaN          NaN   \n",
            "29         NaN             NaN                               NaN          NaN   \n",
            "30         NaN            15.0                               NaN         15.0   \n",
            "31         NaN             5.0                               NaN          5.0   \n",
            "32         NaN            12.0                               NaN         12.0   \n",
            "\n",
            "    dataInicio  cluster  extensao               dataDoBatch  \\\n",
            "0   2021-07-19      0.0       0.0  2022-02-21T19:27:29.068Z   \n",
            "1   2021-08-30      0.0       0.0  2022-02-21T19:27:29.068Z   \n",
            "2   2021-01-31      1.0       0.0  2022-02-18T17:42:54.050Z   \n",
            "3   2022-05-30      2.0       0.0                       NaN   \n",
            "4   2021-05-31      0.0       0.0  2022-02-21T19:27:29.068Z   \n",
            "5   2022-03-07      1.0       0.0                       NaN   \n",
            "6   2022-06-06      0.0       0.0                       NaN   \n",
            "7   2022-10-17     14.0       0.0                       NaN   \n",
            "8   2021-03-03      0.0       0.0  2022-02-21T19:27:29.068Z   \n",
            "9   2022-05-23      2.0       0.0                       NaN   \n",
            "10  2022-06-27      0.0       0.0                       NaN   \n",
            "11  2021-09-20      0.0       0.0  2022-02-21T19:27:29.068Z   \n",
            "12  2022-07-11      0.0       0.0                       NaN   \n",
            "13  2022-03-28      1.0       0.0                       NaN   \n",
            "14  2021-12-01      0.0       0.0  2022-02-21T17:44:57.970Z   \n",
            "15  2022-01-31      0.0       0.0  2022-02-18T17:42:54.050Z   \n",
            "16  2021-11-16      0.0       0.0  2022-02-21T17:44:57.970Z   \n",
            "17  2022-05-09      0.0       0.0                       NaN   \n",
            "18  2022-08-29      0.0       0.0                       NaN   \n",
            "19  2022-04-04      0.0       0.0                       NaN   \n",
            "20  2021-02-03      0.0       0.0  2022-02-21T19:27:29.068Z   \n",
            "21  2021-06-14      0.0       0.0  2022-02-21T19:27:29.068Z   \n",
            "22  2022-11-16      4.0       0.0                       NaN   \n",
            "23  2021-10-25      0.0       0.0  2022-02-21T19:27:29.068Z   \n",
            "24  2021-12-01      0.0       0.0  2022-02-21T17:44:57.970Z   \n",
            "25  2022-09-14      0.0       0.0                       NaN   \n",
            "26  2022-04-04      0.0       0.0                       NaN   \n",
            "27  2022-01-17      1.0       0.0                       NaN   \n",
            "28  2023-02-13      NaN       NaN                       NaN   \n",
            "29  2023-02-13      NaN       NaN                       NaN   \n",
            "30  2022-12-05      3.0       0.0                       NaN   \n",
            "31  2023-02-13      0.0       0.0                       NaN   \n",
            "32  2022-10-17      1.0       0.0                       NaN   \n",
            "\n",
            "    porcentagemEmpregados               professorDoisId  ... reciclagem  \\\n",
            "0                   30.00  aNEDifsCydcN7uFTZBo0q94DJ502  ...       27.0   \n",
            "1                   15.22  4nGZmWjPQ2TUoQfWWSi1bThad2O2  ...       15.0   \n",
            "2                     NaN  yFtcYHIWdZg0ktgIEas9o5Ift9M2  ...        0.0   \n",
            "3                     NaN                           NaN  ...        NaN   \n",
            "4                     NaN  FiqEWj5gfBZrOee7RXdUMgWBIxq1  ...        1.0   \n",
            "5                     NaN  vFwIn8cbokc8eTpUt9QNbxP1hVe2  ...        NaN   \n",
            "6                     NaN                           NaN  ...        NaN   \n",
            "7                     NaN                           NaN  ...        NaN   \n",
            "8                     NaN  szR0aJ3FA4c0tYYj43opTbax3WX2  ...        1.0   \n",
            "9                     NaN  NtfUjHMWU8YgYi6ICq87e13Qd4z2  ...        NaN   \n",
            "10                    NaN                           NaN  ...        NaN   \n",
            "11                   0.00  d93U1eJ7oif9n27TN5nllZxUA313  ...       34.0   \n",
            "12                    NaN                           NaN  ...        NaN   \n",
            "13                    NaN  4nGZmWjPQ2TUoQfWWSi1bThad2O2  ...        NaN   \n",
            "14                    NaN  4Mx2wYepkeSupFAaL0zUONlN0PG3  ...        0.0   \n",
            "15                    NaN  84CEVPFx9fgl2WuOjKd2wcgwKuJ3  ...        0.0   \n",
            "16                    NaN  Irns3isTvnZNvBUa88T5qNx3JjJ3  ...        0.0   \n",
            "17                    NaN  djGodEEa8mZGArh4lm3gD30pCeg2  ...        NaN   \n",
            "18                    NaN                           NaN  ...        NaN   \n",
            "19                    NaN  Irns3isTvnZNvBUa88T5qNx3JjJ3  ...        NaN   \n",
            "20                    NaN  4nGZmWjPQ2TUoQfWWSi1bThad2O2  ...        2.0   \n",
            "21                    NaN  4nGZmWjPQ2TUoQfWWSi1bThad2O2  ...        0.0   \n",
            "22                    NaN                           NaN  ...        NaN   \n",
            "23                 100.00  aNEDifsCydcN7uFTZBo0q94DJ502  ...        0.0   \n",
            "24                    NaN  4Mx2wYepkeSupFAaL0zUONlN0PG3  ...        0.0   \n",
            "25                    NaN                           NaN  ...        NaN   \n",
            "26                    NaN  I0U8pfCzh7ctvk2QdSRBIrmZhQS2  ...        NaN   \n",
            "27                    NaN  4w6ztCDqtZRT2gD35i59CupCyXr2  ...        NaN   \n",
            "28                    NaN                           NaN  ...        NaN   \n",
            "29                    NaN                           NaN  ...        NaN   \n",
            "30                    NaN                           NaN  ...        NaN   \n",
            "31                    NaN                           NaN  ...        NaN   \n",
            "32                    NaN                           NaN  ...        NaN   \n",
            "\n",
            "    bootcampStatus                 professorUmId concluiram  bootcampNome  \\\n",
            "0        Concluído  l52ed8NxK0MQ9I8Tidiy3g0N0N12       50.0          BC05   \n",
            "1        Concluído  4w6ztCDqtZRT2gD35i59CupCyXr2       46.0          BC06   \n",
            "2        Concluído  djGodEEa8mZGArh4lm3gD30pCeg2        0.0          BC13   \n",
            "3        Concluído                           NaN        NaN          BC21   \n",
            "4        Concluído  uUS6yngVC0egyULQrKtY6lsksqf1        NaN          BC03   \n",
            "5        Concluído  uUS6yngVC0egyULQrKtY6lsksqf1        NaN          BC15   \n",
            "6        Concluído                           NaN        NaN          BC22   \n",
            "7        Concluído                           NaN        NaN          BC26   \n",
            "8        Concluído  l52ed8NxK0MQ9I8Tidiy3g0N0N12        NaN          BC02   \n",
            "9        Concluído  84CEVPFx9fgl2WuOjKd2wcgwKuJ3        NaN          BC19   \n",
            "10       Concluído                           NaN        NaN          BC23   \n",
            "11       Concluído  djGodEEa8mZGArh4lm3gD30pCeg2       34.0          BC07   \n",
            "12       Concluído                           NaN        NaN          BC24   \n",
            "13       Concluído  AlK9beQkH3Xkzu92NED9aNF9yIj2        NaN          BC17   \n",
            "14       Concluído  uUS6yngVC0egyULQrKtY6lsksqf1        0.0          BC11   \n",
            "15       Concluído  NtfUjHMWU8YgYi6ICq87e13Qd4z2        0.0          BC14   \n",
            "16       Concluído  FiqEWj5gfBZrOee7RXdUMgWBIxq1        0.0          BC09   \n",
            "17       Concluído  yFtcYHIWdZg0ktgIEas9o5Ift9M2        NaN          BC20   \n",
            "18       Concluído                           NaN        NaN          BC29   \n",
            "19       Concluído  FiqEWj5gfBZrOee7RXdUMgWBIxq1        NaN          BC18   \n",
            "20       Concluído  4w6ztCDqtZRT2gD35i59CupCyXr2        NaN          BC01   \n",
            "21       Concluído  4w6ztCDqtZRT2gD35i59CupCyXr2        NaN          BC04   \n",
            "22       Concluído                           NaN        NaN          BC27   \n",
            "23       Concluído  AlK9beQkH3Xkzu92NED9aNF9yIj2       39.0          BC08   \n",
            "24       Concluído  uUS6yngVC0egyULQrKtY6lsksqf1        0.0          BC10   \n",
            "25       Concluído                           NaN        NaN          BC25   \n",
            "26       Concluído  4Mx2wYepkeSupFAaL0zUONlN0PG3        NaN          BC16   \n",
            "27       Concluído  4nGZmWjPQ2TUoQfWWSi1bThad2O2        NaN          BC12   \n",
            "28    Em andamento                           NaN        NaN           AD1   \n",
            "29    Em andamento                           NaN        NaN           RN1   \n",
            "30    Em andamento                           NaN        NaN          BC30   \n",
            "31    Em andamento                           NaN        NaN           SF8   \n",
            "32       Concluído                           NaN        NaN          BC28   \n",
            "\n",
            "                                           estudantes porcentagemIndicacao  \\\n",
            "0   [{'statusNoBootcamp': 'Formado', 'nomeCompleto...                94.00   \n",
            "1   [{'estudanteId': '8mLOItRET0bPQaargJKl', 'stat...                95.65   \n",
            "2   [{'nomeCompleto': 'ALLAN DOUGLAS SANTOS TAVARE...                 0.00   \n",
            "3   [{'estudanteId': 'bf0u3urYKtfm9TGi4I8W', 'nome...                  NaN   \n",
            "4   [{'nomeCompleto': 'ALINE ALVES DOS SANTOS DIAS...                  NaN   \n",
            "5   [{'estudanteId': 'VsowA9Z5srx1sXRbHbJN', 'stat...                  NaN   \n",
            "6   [{'nomeCompleto': 'ADRIANA NERES ALVES DE JESU...                  NaN   \n",
            "7   [{'estudanteId': 'Sy7vJiJA1ePMUbug6IeQ', 'stat...                  NaN   \n",
            "8   [{'estudanteId': 'qI2fKo7KGxYCeYdLVK4c', 'nome...                  NaN   \n",
            "9   [{'statusNoBootcamp': 'Cursando', 'estudanteId...                  NaN   \n",
            "10  [{'nomeCompleto': 'ANDRÉ RONALDO AMORIM BARBOS...                  NaN   \n",
            "11  [{'nomeCompleto': 'ADSON SILVA', 'estudanteId'...               100.00   \n",
            "12  [{'nomeCompleto': 'ANA CARLA RODRIGUES', 'estu...                  NaN   \n",
            "13  [{'nomeCompleto': 'Andréa Cristina da Silva Go...                  NaN   \n",
            "14  [{'nomeCompleto': 'ALFREDO GUTEMBERG PEREIRA',...                59.46   \n",
            "15  [{'statusNoBootcamp': 'Desistente', 'estudante...                17.24   \n",
            "16  [{'statusNoBootcamp': 'Desistente', 'nomeCompl...                 0.00   \n",
            "17  [{'estudanteId': '7oEspeK83cX1AUGAvg3Z', 'nome...                  NaN   \n",
            "18  [{'estudanteId': 'uxsCXFpFIZpnwLk4EmLL', 'stat...                  NaN   \n",
            "19  [{'nomeCompleto': 'Antonio Carlos Duarte de Li...                  NaN   \n",
            "20  [{'estudanteId': 'NYHGmDiDvZQow67MSTeH', 'stat...                  NaN   \n",
            "21  [{'estudanteId': 'ErXRonsXSBHDuak5Hh7t', 'nome...                  NaN   \n",
            "22  [{'statusNoBootcamp': 'Cursando', 'nomeComplet...                  NaN   \n",
            "23  [{'nomeCompleto': 'ADILTON COSTA SANTOS DE SAN...               200.00   \n",
            "24  [{'nomeCompleto': 'ADRIANA PEREIRA DAVI', 'est...               190.91   \n",
            "25  [{'estudanteId': '0TDEOSdsCDuyLTSBSCC0', 'stat...                  NaN   \n",
            "26  [{'estudanteId': 'NdGHfy7CKfCMqUQD1kxX', 'nome...                  NaN   \n",
            "27  [{'estudanteId': '6uJwECxm6MLQSUU5YCT8', 'stat...                  NaN   \n",
            "28  [{'nomeCompleto': 'ADRIANO HOFFMANN', 'statusN...                  NaN   \n",
            "29  [{'statusNoBootcamp': 'Cursando', 'estudanteId...                  NaN   \n",
            "30  [{'statusNoBootcamp': 'Cursando', 'nomeComplet...                  NaN   \n",
            "31  [{'statusNoBootcamp': 'Cursando', 'estudanteId...                  NaN   \n",
            "32  [{'statusNoBootcamp': 'Cursando', 'estudanteId...                  NaN   \n",
            "\n",
            "                                        idProfessores  \\\n",
            "0                                                 NaN   \n",
            "1                                                 NaN   \n",
            "2   [djGodEEa8mZGArh4lm3gD30pCeg2, yFtcYHIWdZg0ktg...   \n",
            "3   [vFwIn8cbokc8eTpUt9QNbxP1hVe2, uUS6yngVC0egyUL...   \n",
            "4                                                 NaN   \n",
            "5   [uUS6yngVC0egyULQrKtY6lsksqf1, vFwIn8cbokc8eTp...   \n",
            "6   [AlK9beQkH3Xkzu92NED9aNF9yIj2, jR4MN2vPlybXYgG...   \n",
            "7   [4nGZmWjPQ2TUoQfWWSi1bThad2O2, 4w6ztCDqtZRT2gD...   \n",
            "8   [l52ed8NxK0MQ9I8Tidiy3g0N0N12, szR0aJ3FA4c0tYY...   \n",
            "9   [84CEVPFx9fgl2WuOjKd2wcgwKuJ3, NtfUjHMWU8YgYi6...   \n",
            "10  [4nGZmWjPQ2TUoQfWWSi1bThad2O2, 4w6ztCDqtZRT2gD...   \n",
            "11                                                NaN   \n",
            "12  [4Mx2wYepkeSupFAaL0zUONlN0PG3, I0U8pfCzh7ctvk2...   \n",
            "13  [AlK9beQkH3Xkzu92NED9aNF9yIj2, 4nGZmWjPQ2TUoQf...   \n",
            "14                                                NaN   \n",
            "15  [NtfUjHMWU8YgYi6ICq87e13Qd4z2, 84CEVPFx9fgl2Wu...   \n",
            "16                                                NaN   \n",
            "17  [yFtcYHIWdZg0ktgIEas9o5Ift9M2, FiqEWj5gfBZrOee...   \n",
            "18  [84CEVPFx9fgl2WuOjKd2wcgwKuJ3, i8vU3AsSqZRRam3...   \n",
            "19  [FiqEWj5gfBZrOee7RXdUMgWBIxq1, Irns3isTvnZNvBU...   \n",
            "20                                                NaN   \n",
            "21                                                NaN   \n",
            "22  [AlK9beQkH3Xkzu92NED9aNF9yIj2, JCBRD08dIthrJ6L...   \n",
            "23                                                NaN   \n",
            "24                                                NaN   \n",
            "25  [FiqEWj5gfBZrOee7RXdUMgWBIxq1, jR4MN2vPlybXYgG...   \n",
            "26  [4Mx2wYepkeSupFAaL0zUONlN0PG3, I0U8pfCzh7ctvk2...   \n",
            "27                                                NaN   \n",
            "28  [4nGZmWjPQ2TUoQfWWSi1bThad2O2, 4w6ztCDqtZRT2gD...   \n",
            "29  [FiqEWj5gfBZrOee7RXdUMgWBIxq1, jR4MN2vPlybXYgG...   \n",
            "30  [84CEVPFx9fgl2WuOjKd2wcgwKuJ3, i8vU3AsSqZRRam3...   \n",
            "31  [I0U8pfCzh7ctvk2QdSRBIrmZhQS2, vFwIn8cbokc8eTp...   \n",
            "32  [uUS6yngVC0egyULQrKtY6lsksqf1, vFwIn8cbokc8eTp...   \n",
            "\n",
            "                                          professores                   key  \n",
            "0                                                 NaN                   NaN  \n",
            "1                                                 NaN                   NaN  \n",
            "2   [{'id': 'djGodEEa8mZGArh4lm3gD30pCeg2', 'nome'...                   NaN  \n",
            "3   [{'nome': 'Renan Mussato', 'id': 'vFwIn8cbokc8...                   NaN  \n",
            "4                                                 NaN                   NaN  \n",
            "5   [{'nome': 'FILIPE SANTANA DE OLIVEIRA', 'id': ...                   NaN  \n",
            "6   [{'nome': 'Adriano Gomes da Silva ', 'id': 'Al...                   NaN  \n",
            "7   [{'nome': 'Igor Gondim Soares de Lemos', 'id':...  GDEAJXvFmdhHgnlrVsCt  \n",
            "8   [{'nome': 'SAYURE VIEIRA DE PAIVA', 'id': 'l52...                   NaN  \n",
            "9   [{'nome': 'Camila Videres de Oliveira', 'id': ...                   NaN  \n",
            "10  [{'id': '4nGZmWjPQ2TUoQfWWSi1bThad2O2', 'nome'...                   NaN  \n",
            "11                                                NaN                   NaN  \n",
            "12  [{'nome': 'Luiz Prandini', 'id': '4Mx2wYepkeSu...                   NaN  \n",
            "13  [{'nome': 'Adriano Gomes da Silva ', 'id': 'Al...                   NaN  \n",
            "14                                                NaN                   NaN  \n",
            "15  [{'nome': 'Diogo Arruda Soares', 'id': 'NtfUjH...                   NaN  \n",
            "16                                                NaN                   NaN  \n",
            "17  [{'id': 'yFtcYHIWdZg0ktgIEas9o5Ift9M2', 'nome'...                   NaN  \n",
            "18  [{'nome': 'Camila Videres de Oliveira', 'id': ...  eUiJfVtDc9A1YKftT38z  \n",
            "19  [{'id': 'FiqEWj5gfBZrOee7RXdUMgWBIxq1', 'nome'...                   NaN  \n",
            "20                                                NaN                   NaN  \n",
            "21                                                NaN                   NaN  \n",
            "22  [{'id': 'AlK9beQkH3Xkzu92NED9aNF9yIj2', 'nome'...  jHXYKk7zodgzbHQX0bZv  \n",
            "23                                                NaN                   NaN  \n",
            "24                                                NaN                   NaN  \n",
            "25  [{'nome': 'José Almir de Souza Gomes Júnior', ...  mKI0NenT4UUfZ758N3WD  \n",
            "26  [{'nome': 'Luiz Prandini', 'id': '4Mx2wYepkeSu...                   NaN  \n",
            "27                                                NaN                   NaN  \n",
            "28  [{'nome': 'Igor Gondim Soares de Lemos', 'id':...  uyMEdf66N9WqSJ35XSP1  \n",
            "29  [{'nome': 'José Almir de Souza Gomes Júnior', ...                   NaN  \n",
            "30  [{'nome': 'Camila Videres de Oliveira', 'id': ...  wobgaWWWgfZv2GNjVb6L  \n",
            "31  [{'nome': 'Lorena de Oliveira Meireles', 'id':...  xLRt9jNBT12FdUni1tXI  \n",
            "32  [{'id': 'uUS6yngVC0egyULQrKtY6lsksqf1', 'nome'...  yQbiG8kvfQxMUC7AXVAn  \n",
            "\n",
            "[33 rows x 33 columns]\n"
          ]
        }
      ],
      "source": [
        "# Acessar a coleção \"Turmas\"\n",
        "turmas_ref = db.collection(\"Turmas\")\n",
        "\n",
        "# Obter todos os documentos da coleção\n",
        "turmas_docs = turmas_ref.get()\n",
        "\n",
        "# Criar uma lista vazia para armazenar os dados dos documentos\n",
        "turmas_data = []\n",
        "\n",
        "# Iterar sobre cada documento e adicionar seus dados à lista\n",
        "for doc in turmas_docs:\n",
        "    turmas_data.append(doc.to_dict())\n",
        "\n",
        "# Criar um DataFrame do Pandas a partir dos dados\n",
        "df_turmas = pd.DataFrame(turmas_data)\n",
        "print(df_turmas)\n"
      ]
    },
    {
      "cell_type": "code",
      "execution_count": null,
      "metadata": {
        "id": "vFRooA7lNzce"
      },
      "outputs": [],
      "source": [
        "df_turmas.to_csv('turmas.csv', index=False)"
      ]
    },
    {
      "cell_type": "markdown",
      "metadata": {
        "id": "Q7pOnxf4LjRt"
      },
      "source": [
        "##Dados brutos no mongobd"
      ]
    },
    {
      "cell_type": "code",
      "execution_count": null,
      "metadata": {
        "colab": {
          "base_uri": "https://localhost:8080/"
        },
        "id": "fkDGgtQnPZ6s",
        "outputId": "5256261f-671f-40ce-8034-73dfc1ceea27"
      },
      "outputs": [
        {
          "name": "stdout",
          "output_type": "stream",
          "text": [
            "Looking in indexes: https://pypi.org/simple, https://us-python.pkg.dev/colab-wheels/public/simple/\n",
            "Requirement already satisfied: pymongo in /usr/local/lib/python3.10/dist-packages (4.3.3)\n",
            "Requirement already satisfied: dnspython<3.0.0,>=1.16.0 in /usr/local/lib/python3.10/dist-packages (from pymongo) (2.3.0)\n"
          ]
        }
      ],
      "source": [
        "pip install pymongo"
      ]
    },
    {
      "cell_type": "code",
      "execution_count": null,
      "metadata": {
        "id": "Y3Z9-PpnPadi"
      },
      "outputs": [],
      "source": [
        "import pymongo\n",
        "from pymongo import MongoClient"
      ]
    },
    {
      "cell_type": "code",
      "execution_count": null,
      "metadata": {
        "id": "xddb5HirPcOj"
      },
      "outputs": [],
      "source": [
        "#Concector MongoDB Atlas\n",
        "uri = \"mongodb+srv://cluster0.jjkb9co.mongodb.net/?authSource=%24external&authMechanism=MONGODB-X509&retryWrites=true&w=majority\"\n",
        "client = MongoClient(uri,tls=True,tlsCertificateKeyFile='/content/X509-cert-3926889476236238374.pem') #chave\n",
        "                     \n",
        "db = client['soulcode']\n"
      ]
    },
    {
      "cell_type": "code",
      "execution_count": null,
      "metadata": {
        "colab": {
          "base_uri": "https://localhost:8080/"
        },
        "id": "sJ5FdqpEQ6yD",
        "outputId": "148a9bac-6bc2-4b55-bc2d-c4e068772fa2"
      },
      "outputs": [
        {
          "data": {
            "text/plain": [
              "<pymongo.results.InsertManyResult at 0x7f8250274820>"
            ]
          },
          "execution_count": 63,
          "metadata": {},
          "output_type": "execute_result"
        }
      ],
      "source": [
        "colecao = db['estudantes']\n",
        "\n",
        "# Leia o arquivo CSV ou carregue o DataFrame do pandas de outra fonte\n",
        "df = pd.read_csv('estudantes.csv')\n",
        "\n",
        "# Converta o DataFrame do pandas em um dicionário de Python\n",
        "estudantes = df.to_dict('records')\n",
        "\n",
        "# Insira os registros na coleção do MongoDB usando o método insert_many()\n",
        "colecao.insert_many(estudantes)"
      ]
    },
    {
      "cell_type": "code",
      "execution_count": null,
      "metadata": {
        "colab": {
          "base_uri": "https://localhost:8080/"
        },
        "id": "hCLxpnkYOs4S",
        "outputId": "e75a6a93-0843-45f7-fd3f-cd086d324a29"
      },
      "outputs": [
        {
          "data": {
            "text/plain": [
              "<pymongo.results.InsertManyResult at 0x7f8250fa3160>"
            ]
          },
          "execution_count": 66,
          "metadata": {},
          "output_type": "execute_result"
        }
      ],
      "source": [
        "colecao = db['turmas']\n",
        "\n",
        "# Leia o arquivo CSV ou carregue o DataFrame do pandas de outra fonte\n",
        "df1 = pd.read_csv('turmas.csv')\n",
        "\n",
        "# Converta o DataFrame do pandas em uma lista de dicionários de Python\n",
        "turmas = df1.to_dict('records')\n",
        "\n",
        "# Insira os registros na coleção do MongoDB usando o método insert_many()\n",
        "colecao.insert_many(turmas)"
      ]
    },
    {
      "cell_type": "markdown",
      "metadata": {
        "id": "J5HrS7z1L5y2"
      },
      "source": [
        "##Dados brutos para Cloud Storage (bucket)\n"
      ]
    },
    {
      "cell_type": "code",
      "execution_count": null,
      "metadata": {
        "colab": {
          "base_uri": "https://localhost:8080/"
        },
        "id": "3vjbZyyCWC2y",
        "outputId": "21606982-b3c9-43c4-b792-35f4f3169dbf"
      },
      "outputs": [
        {
          "name": "stdout",
          "output_type": "stream",
          "text": [
            "Looking in indexes: https://pypi.org/simple, https://us-python.pkg.dev/colab-wheels/public/simple/\n",
            "Collecting gcsfs\n",
            "  Downloading gcsfs-2023.4.0-py2.py3-none-any.whl (26 kB)\n",
            "Requirement already satisfied: google-cloud-storage in /usr/local/lib/python3.10/dist-packages (from gcsfs) (2.8.0)\n",
            "Collecting aiohttp!=4.0.0a0,!=4.0.0a1\n",
            "  Downloading aiohttp-3.8.4-cp310-cp310-manylinux_2_17_x86_64.manylinux2014_x86_64.whl (1.0 MB)\n",
            "\u001b[2K     \u001b[90m━━━━━━━━━━━━━━━━━━━━━━━━━━━━━━━━━━━━━━━━\u001b[0m \u001b[32m1.0/1.0 MB\u001b[0m \u001b[31m15.8 MB/s\u001b[0m eta \u001b[36m0:00:00\u001b[0m\n",
            "\u001b[?25hRequirement already satisfied: decorator>4.1.2 in /usr/local/lib/python3.10/dist-packages (from gcsfs) (4.4.2)\n",
            "Requirement already satisfied: google-auth-oauthlib in /usr/local/lib/python3.10/dist-packages (from gcsfs) (1.0.0)\n",
            "Requirement already satisfied: fsspec==2023.4.0 in /usr/local/lib/python3.10/dist-packages (from gcsfs) (2023.4.0)\n",
            "Requirement already satisfied: requests in /usr/local/lib/python3.10/dist-packages (from gcsfs) (2.27.1)\n",
            "Requirement already satisfied: google-auth>=1.2 in /usr/local/lib/python3.10/dist-packages (from gcsfs) (2.17.3)\n",
            "Requirement already satisfied: charset-normalizer<4.0,>=2.0 in /usr/local/lib/python3.10/dist-packages (from aiohttp!=4.0.0a0,!=4.0.0a1->gcsfs) (2.0.12)\n",
            "Collecting frozenlist>=1.1.1\n",
            "  Downloading frozenlist-1.3.3-cp310-cp310-manylinux_2_5_x86_64.manylinux1_x86_64.manylinux_2_17_x86_64.manylinux2014_x86_64.whl (149 kB)\n",
            "\u001b[2K     \u001b[90m━━━━━━━━━━━━━━━━━━━━━━━━━━━━━━━━━━━━━━\u001b[0m \u001b[32m149.6/149.6 kB\u001b[0m \u001b[31m17.0 MB/s\u001b[0m eta \u001b[36m0:00:00\u001b[0m\n",
            "\u001b[?25hCollecting yarl<2.0,>=1.0\n",
            "  Downloading yarl-1.9.2-cp310-cp310-manylinux_2_17_x86_64.manylinux2014_x86_64.whl (268 kB)\n",
            "\u001b[2K     \u001b[90m━━━━━━━━━━━━━━━━━━━━━━━━━━━━━━━━━━━━━━\u001b[0m \u001b[32m268.8/268.8 kB\u001b[0m \u001b[31m21.4 MB/s\u001b[0m eta \u001b[36m0:00:00\u001b[0m\n",
            "\u001b[?25hCollecting aiosignal>=1.1.2\n",
            "  Downloading aiosignal-1.3.1-py3-none-any.whl (7.6 kB)\n",
            "Requirement already satisfied: attrs>=17.3.0 in /usr/local/lib/python3.10/dist-packages (from aiohttp!=4.0.0a0,!=4.0.0a1->gcsfs) (23.1.0)\n",
            "Collecting async-timeout<5.0,>=4.0.0a3\n",
            "  Downloading async_timeout-4.0.2-py3-none-any.whl (5.8 kB)\n",
            "Collecting multidict<7.0,>=4.5\n",
            "  Downloading multidict-6.0.4-cp310-cp310-manylinux_2_17_x86_64.manylinux2014_x86_64.whl (114 kB)\n",
            "\u001b[2K     \u001b[90m━━━━━━━━━━━━━━━━━━━━━━━━━━━━━━━━━━━━━━\u001b[0m \u001b[32m114.5/114.5 kB\u001b[0m \u001b[31m11.5 MB/s\u001b[0m eta \u001b[36m0:00:00\u001b[0m\n",
            "\u001b[?25hRequirement already satisfied: rsa<5,>=3.1.4 in /usr/local/lib/python3.10/dist-packages (from google-auth>=1.2->gcsfs) (4.9)\n",
            "Requirement already satisfied: pyasn1-modules>=0.2.1 in /usr/local/lib/python3.10/dist-packages (from google-auth>=1.2->gcsfs) (0.3.0)\n",
            "Requirement already satisfied: cachetools<6.0,>=2.0.0 in /usr/local/lib/python3.10/dist-packages (from google-auth>=1.2->gcsfs) (5.3.0)\n",
            "Requirement already satisfied: six>=1.9.0 in /usr/local/lib/python3.10/dist-packages (from google-auth>=1.2->gcsfs) (1.16.0)\n",
            "Requirement already satisfied: requests-oauthlib>=0.7.0 in /usr/local/lib/python3.10/dist-packages (from google-auth-oauthlib->gcsfs) (1.3.1)\n",
            "Requirement already satisfied: google-api-core!=2.0.*,!=2.1.*,!=2.2.*,!=2.3.0,<3.0.0dev,>=1.31.5 in /usr/local/lib/python3.10/dist-packages (from google-cloud-storage->gcsfs) (2.11.0)\n",
            "Requirement already satisfied: google-resumable-media>=2.3.2 in /usr/local/lib/python3.10/dist-packages (from google-cloud-storage->gcsfs) (2.5.0)\n",
            "Requirement already satisfied: google-cloud-core<3.0dev,>=2.3.0 in /usr/local/lib/python3.10/dist-packages (from google-cloud-storage->gcsfs) (2.3.2)\n",
            "Requirement already satisfied: urllib3<1.27,>=1.21.1 in /usr/local/lib/python3.10/dist-packages (from requests->gcsfs) (1.26.15)\n",
            "Requirement already satisfied: certifi>=2017.4.17 in /usr/local/lib/python3.10/dist-packages (from requests->gcsfs) (2022.12.7)\n",
            "Requirement already satisfied: idna<4,>=2.5 in /usr/local/lib/python3.10/dist-packages (from requests->gcsfs) (3.4)\n",
            "Requirement already satisfied: protobuf!=3.20.0,!=3.20.1,!=4.21.0,!=4.21.1,!=4.21.2,!=4.21.3,!=4.21.4,!=4.21.5,<5.0.0dev,>=3.19.5 in /usr/local/lib/python3.10/dist-packages (from google-api-core!=2.0.*,!=2.1.*,!=2.2.*,!=2.3.0,<3.0.0dev,>=1.31.5->google-cloud-storage->gcsfs) (3.20.3)\n",
            "Requirement already satisfied: googleapis-common-protos<2.0dev,>=1.56.2 in /usr/local/lib/python3.10/dist-packages (from google-api-core!=2.0.*,!=2.1.*,!=2.2.*,!=2.3.0,<3.0.0dev,>=1.31.5->google-cloud-storage->gcsfs) (1.59.0)\n",
            "Requirement already satisfied: google-crc32c<2.0dev,>=1.0 in /usr/local/lib/python3.10/dist-packages (from google-resumable-media>=2.3.2->google-cloud-storage->gcsfs) (1.5.0)\n",
            "Requirement already satisfied: pyasn1<0.6.0,>=0.4.6 in /usr/local/lib/python3.10/dist-packages (from pyasn1-modules>=0.2.1->google-auth>=1.2->gcsfs) (0.5.0)\n",
            "Requirement already satisfied: oauthlib>=3.0.0 in /usr/local/lib/python3.10/dist-packages (from requests-oauthlib>=0.7.0->google-auth-oauthlib->gcsfs) (3.2.2)\n",
            "Installing collected packages: multidict, frozenlist, async-timeout, yarl, aiosignal, aiohttp, gcsfs\n",
            "Successfully installed aiohttp-3.8.4 aiosignal-1.3.1 async-timeout-4.0.2 frozenlist-1.3.3 gcsfs-2023.4.0 multidict-6.0.4 yarl-1.9.2\n"
          ]
        }
      ],
      "source": [
        "!pip install gcsfs\n"
      ]
    },
    {
      "cell_type": "code",
      "execution_count": null,
      "metadata": {
        "id": "x2ij9MWxMvvI"
      },
      "outputs": [],
      "source": [
        "import os\n",
        "from google.cloud import storage\n",
        "\n",
        "# Defina a variável de ambiente GOOGLE_APPLICATION_CREDENTIALS\n",
        "os.environ['GOOGLE_APPLICATION_CREDENTIALS'] = '/content/versatile-cove-384013-7aa201d11265.json' #chave\n",
        "\n",
        "# Crie um objeto client do Cloud Storage\n",
        "storage_client = storage.Client()\n"
      ]
    },
    {
      "cell_type": "code",
      "execution_count": null,
      "metadata": {
        "id": "0nGi6YbEUUeI"
      },
      "outputs": [],
      "source": [
        " #Carregar direto no bucket\n",
        "df.to_csv('gs://proj11/brutos/estudantes.csv',index=False)"
      ]
    },
    {
      "cell_type": "code",
      "execution_count": null,
      "metadata": {
        "id": "Ma4gacCmWJq5"
      },
      "outputs": [],
      "source": [
        " #Carregar direto no bucket\n",
        "df.to_csv('gs://proj11/brutos/turmas.csv',index=False)"
      ]
    },
    {
      "cell_type": "code",
      "execution_count": null,
      "metadata": {
        "id": "BHc6e43Ju5bv"
      },
      "outputs": [],
      "source": [
        "!pip install google-cloud-bigquery\n"
      ]
    },
    {
      "cell_type": "markdown",
      "source": [
        "##Bucket GCP - BigQuery- TRATADOS\n"
      ],
      "metadata": {
        "id": "ttUwcfocNY4F"
      }
    },
    {
      "cell_type": "code",
      "source": [
        "# Criando um cliente para acessar o BigQuery\n",
        "project_id = 'versatile-cove-384013'\n",
        "bq_client = bigquery.Client(project=project_id)\n",
        "\n",
        "# Criando um cliente para acessar o GCS\n",
        "storage_client = storage.Client(project=project_id)"
      ],
      "metadata": {
        "id": "I_Ma70gqscYE"
      },
      "execution_count": null,
      "outputs": []
    },
    {
      "cell_type": "code",
      "source": [
        "# cria função para verificar se a tabela já existe no BigQuery e a exclui\n",
        "def verifica_tabela(table_ref):\n",
        "  try:\n",
        "      bq_client.get_table(table_ref)\n",
        "      bq_client.delete_table(table_ref)\n",
        "      print(f\"Tabela {table_name} excluída.\")\n",
        "  except Exception as e:\n",
        "      print(f\"Tabela {table_name} não existe. Criando a tabela no Big Query.\")"
      ],
      "metadata": {
        "id": "E1yGOvnk_hJB"
      },
      "execution_count": null,
      "outputs": []
    },
    {
      "cell_type": "code",
      "source": [
        "bucket_name = 'proj11'\n",
        "dataset_id = 'soulcode'\n",
        "table_name = 'estudantes'\n",
        "\n",
        "# Referência ao bucket\n",
        "bucket = storage_client.bucket(bucket_name)\n",
        "\n",
        "# Carrega o arquivo do bucket para o BigQuery\n",
        "dataset_ref = bq_client.dataset(dataset_id)\n",
        "table_ref = dataset_ref.table(table_name)\n",
        "\n",
        "# Consulta no BigQuery se a tabela já existe e a exclui, para evitar erro na execução\n",
        "verifica_tabela(table_ref)\n",
        "\n",
        "job_config = bigquery.LoadJobConfig()\n",
        "job_config.source_format = bigquery.SourceFormat.CSV\n",
        "job_config.skip_leading_rows = 1\n",
        "job_config.autodetect = True\n",
        "load_job = bq_client.load_table_from_uri('gs://proj11/tratados/estudantes.csv', table_ref, job_config=job_config)\n",
        "\n",
        "# Aguarda a conclusão da carga da tabela\n",
        "load_job.result()"
      ],
      "metadata": {
        "id": "YksdeX2Kst9j",
        "colab": {
          "base_uri": "https://localhost:8080/"
        },
        "outputId": "d29b2115-27eb-41ca-aea4-bed0d38e0cb8"
      },
      "execution_count": null,
      "outputs": [
        {
          "output_type": "stream",
          "name": "stdout",
          "text": [
            "Tabela estudantes excluída.\n"
          ]
        },
        {
          "output_type": "execute_result",
          "data": {
            "text/plain": [
              "LoadJob<project=versatile-cove-384013, location=US, id=c5b4b62b-39d7-45fa-b490-39737b872d97>"
            ]
          },
          "metadata": {},
          "execution_count": 117
        }
      ]
    },
    {
      "cell_type": "code",
      "source": [
        "table_name = 'turmas'\n",
        "\n",
        "# Carrega o arquivo do bucket para o BigQuery\n",
        "dataset_ref = bq_client.dataset(dataset_id)\n",
        "table_ref = dataset_ref.table(table_name)\n",
        "\n",
        "# Consulta no BigQuery se a tabela já existe e a exclui, para evitar erro na execução\n",
        "verifica_tabela(table_ref)\n",
        "\n",
        "job_config = bigquery.LoadJobConfig()\n",
        "job_config.source_format = bigquery.SourceFormat.CSV\n",
        "job_config.skip_leading_rows = 1\n",
        "job_config.autodetect = True\n",
        "load_job = bq_client.load_table_from_uri('gs://proj11/tratados/turmas.csv', table_ref, job_config=job_config)\n",
        "\n",
        "# Aguarda a conclusão da carga da tabela\n",
        "load_job.result()"
      ],
      "metadata": {
        "id": "K-sF3ePrxPV-",
        "colab": {
          "base_uri": "https://localhost:8080/"
        },
        "outputId": "8a939317-e70b-4d7d-84e6-b037543979b1"
      },
      "execution_count": null,
      "outputs": [
        {
          "output_type": "stream",
          "name": "stdout",
          "text": [
            "Tabela turmas excluída.\n"
          ]
        },
        {
          "output_type": "execute_result",
          "data": {
            "text/plain": [
              "LoadJob<project=versatile-cove-384013, location=US, id=5a3d730b-e920-41a6-9d24-3e78d3434fc3>"
            ]
          },
          "metadata": {},
          "execution_count": 118
        }
      ]
    },
    {
      "cell_type": "code",
      "source": [
        "table_name = 'disciplinas'\n",
        "\n",
        "# Carrega o arquivo do bucket para o BigQuery\n",
        "dataset_ref = bq_client.dataset(dataset_id)\n",
        "table_ref = dataset_ref.table(table_name)\n",
        "\n",
        "# Consulta no BigQuery se a tabela já existe e a exclui, para evitar erro na execução\n",
        "verifica_tabela(table_ref)\n",
        "\n",
        "job_config = bigquery.LoadJobConfig()\n",
        "job_config.source_format = bigquery.SourceFormat.CSV\n",
        "job_config.skip_leading_rows = 1\n",
        "job_config.autodetect = True\n",
        "load_job = bq_client.load_table_from_uri('gs://proj11/tratados/disciplinas.csv', table_ref, job_config=job_config)\n",
        "\n",
        "# Aguarda a conclusão da carga da tabela\n",
        "load_job.result()"
      ],
      "metadata": {
        "colab": {
          "base_uri": "https://localhost:8080/"
        },
        "id": "uLm5uPxQxPSn",
        "outputId": "e0122d76-1a18-482c-debd-2e2d008425c5"
      },
      "execution_count": null,
      "outputs": [
        {
          "output_type": "stream",
          "name": "stdout",
          "text": [
            "Tabela disciplinas excluída.\n"
          ]
        },
        {
          "output_type": "execute_result",
          "data": {
            "text/plain": [
              "LoadJob<project=versatile-cove-384013, location=US, id=4c34e41a-c83f-401d-93d2-f4f7db567c34>"
            ]
          },
          "metadata": {},
          "execution_count": 119
        }
      ]
    },
    {
      "cell_type": "code",
      "source": [
        "table_name = 'professores'\n",
        "\n",
        "# Carrega o arquivo do bucket para o BigQuery\n",
        "dataset_ref = bq_client.dataset(dataset_id)\n",
        "table_ref = dataset_ref.table(table_name)\n",
        "\n",
        "# Consulta no BigQuery se a tabela já existe e a exclui, para evitar erro na execução\n",
        "verifica_tabela(table_ref)\n",
        "\n",
        "job_config = bigquery.LoadJobConfig()\n",
        "job_config.source_format = bigquery.SourceFormat.CSV\n",
        "job_config.skip_leading_rows = 1\n",
        "job_config.autodetect = True\n",
        "load_job = bq_client.load_table_from_uri('gs://proj11/tratados/professores.csv', table_ref, job_config=job_config)\n",
        "\n",
        "# Aguarda a conclusão da carga da tabela\n",
        "load_job.result()"
      ],
      "metadata": {
        "id": "hZxxppMhxPP1",
        "colab": {
          "base_uri": "https://localhost:8080/"
        },
        "outputId": "9bd19704-48d9-4a38-ff4c-451fd2206d72"
      },
      "execution_count": null,
      "outputs": [
        {
          "output_type": "stream",
          "name": "stdout",
          "text": [
            "Tabela professores excluída.\n"
          ]
        },
        {
          "output_type": "execute_result",
          "data": {
            "text/plain": [
              "LoadJob<project=versatile-cove-384013, location=US, id=c4ca1cd6-a643-43e9-8d88-022ea815e4a8>"
            ]
          },
          "metadata": {},
          "execution_count": 120
        }
      ]
    },
    {
      "cell_type": "code",
      "execution_count": null,
      "metadata": {
        "id": "oxthS9E9vtl7"
      },
      "outputs": [],
      "source": [
        "import os\n",
        "from google.cloud import bigquery\n",
        "from google.oauth2 import service_account\n"
      ]
    },
    {
      "cell_type": "code",
      "execution_count": null,
      "metadata": {
        "id": "Mmy8_6fv8IMb"
      },
      "outputs": [],
      "source": [
        "# Autenticação usando suas credenciais do Google Cloud\n",
        "credentials = service_account.Credentials.from_service_account_file('/content/versatile-cove-384013-7aa201d11265.json')\n",
        "\n",
        "# Cria um objeto cliente do BigQuery\n",
        "client = bigquery.Client(credentials=credentials, project='versatile-cove-384013')\n",
        "\n",
        "# Define o nome do seu dataset\n",
        "dataset_name = 'soulcode'\n",
        "\n",
        "# Define o objeto do seu dataset\n",
        "dataset = bigquery.Dataset(f'{client.project}.{dataset_name}')\n",
        "\n",
        "# Define a localização do seu dataset\n",
        "dataset.location = 'US' # ou qualquer outra localização disponível\n",
        "\n",
        "# Cria o seu dataset\n",
        "dataset = client.create_dataset(dataset)"
      ]
    },
    {
      "cell_type": "code",
      "execution_count": null,
      "metadata": {
        "colab": {
          "base_uri": "https://localhost:8080/"
        },
        "id": "WgvJny8P8Qfs",
        "outputId": "f4d8aede-895e-41b7-d7eb-f7e95abc2513"
      },
      "outputs": [
        {
          "name": "stdout",
          "output_type": "stream",
          "text": [
            "Dataset soulcode criado com sucesso na localização US.\n"
          ]
        }
      ],
      "source": [
        "print(f'Dataset {dataset.dataset_id} criado com sucesso na localização {dataset.location}.')"
      ]
    },
    {
      "cell_type": "code",
      "execution_count": null,
      "metadata": {
        "id": "XAt33FqD864z"
      },
      "outputs": [],
      "source": [
        "#Criar tabela\n",
        "table_id = 'estudantes'\n",
        "table_ref = dataset.table(table_id)"
      ]
    },
    {
      "cell_type": "code",
      "execution_count": null,
      "metadata": {
        "id": "PugDgaMd-Eef"
      },
      "outputs": [],
      "source": [
        "job_config = bigquery.LoadJobConfig()\n",
        "job_config.source_format = bigquery.SourceFormat.CSV\n",
        "job_config.skip_leading_rows = 1  # pula a primeira linha (dados) do arquivo CSV"
      ]
    },
    {
      "cell_type": "code",
      "execution_count": null,
      "metadata": {
        "id": "XhSuG_WTEt74"
      },
      "outputs": [],
      "source": [
        "#dando erro com cep no schema- tentar com dado tratado\n",
        "with open('/content/estudantes.csv', 'rb') as source_file:\n",
        "    job = client.load_table_from_file(\n",
        "        source_file,\n",
        "        table_ref,\n",
        "        location='US',\n",
        "        job_config=job_config,\n",
        "    )\n",
        "\n",
        "job.result()  # Espera o carregamento do arquivo terminar"
      ]
    }
  ],
  "metadata": {
    "colab": {
      "provenance": [],
      "include_colab_link": true
    },
    "kernelspec": {
      "display_name": "Python 3",
      "name": "python3"
    },
    "language_info": {
      "name": "python"
    }
  },
  "nbformat": 4,
  "nbformat_minor": 0
}